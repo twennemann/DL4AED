{
 "cells": [
  {
   "cell_type": "markdown",
   "metadata": {
    "cell_id": "00005-6f7be6ba-c1f7-4e74-98e0-f1d77d5ec18b",
    "deepnote_cell_type": "markdown",
    "id": "EixkaJOq1Isb"
   },
   "source": [
    "## Imports"
   ]
  },
  {
   "cell_type": "code",
   "execution_count": 1,
   "metadata": {
    "cell_id": "00006-6415b201-7099-4fc8-be77-ca77ca24b869",
    "colab": {
     "base_uri": "https://localhost:8080/",
     "height": 35
    },
    "deepnote_cell_type": "code",
    "deepnote_output_heights": [
     21.199996948242188
    ],
    "deepnote_to_be_reexecuted": false,
    "executionInfo": {
     "elapsed": 4900,
     "status": "ok",
     "timestamp": 1608714302049,
     "user": {
      "displayName": "Fabian Seipel",
      "photoUrl": "https://lh3.googleusercontent.com/a-/AOh14Gh8YVHF3qhtE29H3VXcs8F3wQ7yT5xvIZgIn8YBWw=s64",
      "userId": "13634335260986624818"
     },
     "user_tz": -60
    },
    "execution_millis": 11087,
    "execution_start": 1641793363569,
    "id": "k4Mcifqv1Isb",
    "outputId": "1471a53d-43a3-46d2-9b2a-5aa8f193edb8",
    "source_hash": "2e1bc272"
   },
   "outputs": [
    {
     "data": {
      "text/plain": [
       "'2.7.0'"
      ]
     },
     "execution_count": 1,
     "metadata": {},
     "output_type": "execute_result"
    }
   ],
   "source": [
    "# imports\n",
    "import sys\n",
    "import sklearn\n",
    "import tensorflow as tf\n",
    "\n",
    "import numpy as np\n",
    "import os\n",
    "import glob\n",
    "import json\n",
    "import time\n",
    "import librosa\n",
    "from pathlib import Path\n",
    "import IPython.display as ipd\n",
    "import itertools \n",
    "import io\n",
    "\n",
    "# random seed to ensure consistent results during the tutorial\n",
    "np.random.seed(42)\n",
    "\n",
    "# To plot pretty figures\n",
    "%matplotlib inline\n",
    "import matplotlib as mpl\n",
    "import matplotlib.pyplot as plt\n",
    "mpl.rc('axes', labelsize=14)\n",
    "mpl.rc('xtick', labelsize=12)\n",
    "mpl.rc('ytick', labelsize=12)\n",
    "\n",
    "# check tensorflow version\n",
    "tf.__version__"
   ]
  },
  {
   "cell_type": "markdown",
   "metadata": {
    "cell_id": "00007-ac6a2adc-542d-4899-b558-66caecad4e75",
    "deepnote_cell_type": "markdown",
    "id": "eJTF5VuEAnF-"
   },
   "source": [
    "# 1. Datasets"
   ]
  },
  {
   "cell_type": "markdown",
   "metadata": {
    "cell_id": "00008-e0d1d32e-e6a0-40b7-978c-59e796c68aa7",
    "deepnote_cell_type": "markdown",
    "id": "dL0thmdv1Isf"
   },
   "source": [
    "---"
   ]
  },
  {
   "cell_type": "markdown",
   "metadata": {
    "cell_id": "00009-a4e359f4-ef90-4134-8925-94b5ab139ff4",
    "deepnote_cell_type": "markdown",
    "id": "Q0Cqeb201Isf"
   },
   "source": [
    "## Load custom made trial data"
   ]
  },
  {
   "cell_type": "code",
   "execution_count": 2,
   "metadata": {
    "cell_id": "00011-0af0e09b-7c8a-4818-8322-a6a5fec830de",
    "colab": {
     "base_uri": "https://localhost:8080/"
    },
    "deepnote_cell_type": "code",
    "deepnote_to_be_reexecuted": false,
    "executionInfo": {
     "elapsed": 32876,
     "status": "ok",
     "timestamp": 1608714340650,
     "user": {
      "displayName": "Fabian Seipel",
      "photoUrl": "https://lh3.googleusercontent.com/a-/AOh14Gh8YVHF3qhtE29H3VXcs8F3wQ7yT5xvIZgIn8YBWw=s64",
      "userId": "13634335260986624818"
     },
     "user_tz": -60
    },
    "execution_millis": 50,
    "execution_start": 1641794069712,
    "id": "I9W0igL81Isf",
    "outputId": "1411cd12-af34-4030-d1b4-cd0d08032716",
    "source_hash": "f935a65d"
   },
   "outputs": [
    {
     "ename": "AttributeError",
     "evalue": "module 'keras.api._v2.keras.utils' has no attribute 'get'",
     "output_type": "error",
     "traceback": [
      "\u001b[1;31m---------------------------------------------------------------------------\u001b[0m",
      "\u001b[1;31mAttributeError\u001b[0m                            Traceback (most recent call last)",
      "\u001b[1;32mC:\\Users\\SEBAST~1.BER\\AppData\\Local\\Temp/ipykernel_172/979307660.py\u001b[0m in \u001b[0;36m<module>\u001b[1;34m\u001b[0m\n\u001b[0;32m      3\u001b[0m   \u001b[1;31m#                              cache_subdir=Path('./_data/').resolve(),\u001b[0m\u001b[1;33m\u001b[0m\u001b[1;33m\u001b[0m\u001b[1;33m\u001b[0m\u001b[0m\n\u001b[0;32m      4\u001b[0m    \u001b[1;31m#                             extract=True)\u001b[0m\u001b[1;33m\u001b[0m\u001b[1;33m\u001b[0m\u001b[1;33m\u001b[0m\u001b[0m\n\u001b[1;32m----> 5\u001b[1;33m \u001b[0mfilepath\u001b[0m \u001b[1;33m=\u001b[0m \u001b[0mtf\u001b[0m\u001b[1;33m.\u001b[0m\u001b[0mkeras\u001b[0m\u001b[1;33m.\u001b[0m\u001b[0mutils\u001b[0m\u001b[1;33m.\u001b[0m\u001b[0mget\u001b[0m\u001b[1;33m\u001b[0m\u001b[1;33m\u001b[0m\u001b[0m\n\u001b[0m",
      "\u001b[1;31mAttributeError\u001b[0m: module 'keras.api._v2.keras.utils' has no attribute 'get'"
     ]
    }
   ],
   "source": [
    "#filepath = tf.keras.utils.get_file(Path('_data/TinyUrbanSound8k_datasets.zip').resolve(),\n",
    " #                               download_link,\n",
    "  #                              cache_subdir=Path('./_data/').resolve(),\n",
    "   #                             extract=True)\n",
    "filepath = tf.keras.utils.get"
   ]
  },
  {
   "cell_type": "markdown",
   "metadata": {},
   "source": [
    "### Visualizing the reconstructions\n",
    "\n",
    "One way to ensure that an autoencoder is trained properly is to **compare the inputs and outputs** of our test_dataset: the differences should not be too significant. Let's plot a few images from the test set as well as their reconstructions:"
   ]
  },
  {
   "cell_type": "code",
   "execution_count": 3,
   "metadata": {},
   "outputs": [],
   "source": [
    "# function to plot reconstructions\n",
    "def visualize_reconstructions(test_dataset, autoencoder, classes):\n",
    "    ncols, nrows  = 2, 2\n",
    "    fig, ax = plt.subplots(nrows=nrows, ncols=ncols, figsize=(8, 8))\n",
    "\n",
    "    if tf.is_tensor(test_dataset):\n",
    "        iterator = test_dataset\n",
    "    else:\n",
    "        iterator = test_dataset.shuffle(buffer_size=800).as_numpy_iterator()\n",
    "\n",
    "    # iterate over dataset\n",
    "    for i, sample in enumerate(iterator):\n",
    "    \n",
    "        # predict some test samples\n",
    "        if tf.is_tensor(test_dataset):\n",
    "            X_pred = autoencoder.predict(sample)\n",
    "            X_true = sample\n",
    "            label = ''\n",
    "        else:\n",
    "            one_hot = sample[1]\n",
    "            label = classes[np.argmax(one_hot)]\n",
    "            X_pred = autoencoder.predict(sample[0])\n",
    "            X_true = sample[0]\n",
    "\n",
    "        # plot spectrograms\n",
    "        ax[i][0].imshow(np.squeeze(X_true), origin='lower', aspect='auto')\n",
    "        ax[i][0].axis('off')\n",
    "        ax[i][0].set_ylabel(label)\n",
    "        ax[i][1].imshow(np.squeeze(X_pred), origin='lower', aspect='auto')\n",
    "        ax[i][1].axis('off')\n",
    "\n",
    "        if i == 0:\n",
    "            ax[i][0].set_title('Input Image')\n",
    "            ax[i][1].set_title('Reconstruction')\n",
    "        \n",
    "        if i == nrows-1:\n",
    "            break"
   ]
  },
  {
   "cell_type": "markdown",
   "metadata": {},
   "source": [
    "pre-define autoencoder structure"
   ]
  },
  {
   "cell_type": "code",
   "execution_count": 4,
   "metadata": {},
   "outputs": [],
   "source": [
    "def get_autoencoder_dense(input_shape, dense_layers, codings_size):\n",
    "    \n",
    "    # ENCODER --------------------------------------------------\n",
    "    # encoder input\n",
    "    encoder_input = tf.keras.layers.Input(shape=input_shape)\n",
    "    x = tf.keras.layers.Lambda(lambda x: x)(encoder_input)\n",
    "\n",
    "    # flatten spectrogram\n",
    "    x = tf.keras.layers.Flatten()(x)\n",
    "\n",
    "    # dense layers\n",
    "    for d in dense_layers:\n",
    "        x = tf.keras.layers.Dense(d)(x)\n",
    "\n",
    "    # spectrogram encoded\n",
    "    latent_dimension = tf.keras.layers.Dense(codings_size, name='latent_dimension')(x)\n",
    "    encoder_dense = tf.keras.Model(encoder_input, latent_dimension, name='encoder_dense')\n",
    "\n",
    "\n",
    "    # DECODER --------------------------------------------------\n",
    "    # decoder input\n",
    "    decoder_input = tf.keras.layers.Input(shape=latent_dimension.shape[1:])\n",
    "    x = tf.keras.layers.Lambda(lambda x: x)(decoder_input)\n",
    "\n",
    "    # dense layers\n",
    "    for d in dense_layers[::-1]:\n",
    "        x = tf.keras.layers.Dense(d)(x)\n",
    "\n",
    "    # Dense layer with amount of neurons in input layer \n",
    "    x = tf.keras.layers.Dense(input_shape[0]*input_shape[1]*input_shape[2])(x)\n",
    "\n",
    "    # reshape to input spectrogram shape\n",
    "    x = tf.keras.layers.Reshape(input_shape)(x)\n",
    "\n",
    "    # setup decoder model\n",
    "    decoded_dimension = tf.keras.layers.Lambda(lambda x: x)(x)\n",
    "    decoder_dense = tf.keras.Model(decoder_input, decoded_dimension, name='decoder_dense')\n",
    "\n",
    "\n",
    "    # AUTOENCODER --------------------------------------------------\n",
    "    encodings = encoder_dense(encoder_input)\n",
    "    decodings = decoder_dense(encodings)\n",
    "    autoencoder_dense = tf.keras.Model(encoder_input, decodings, name='autoencoder_dense')\n",
    "\n",
    "    encoder_dense.summary()\n",
    "    decoder_dense.summary()\n",
    "    autoencoder_dense.summary()\n",
    "\n",
    "    return autoencoder_dense, encoder_dense, decoder_dense"
   ]
  },
  {
   "cell_type": "markdown",
   "metadata": {},
   "source": [
    "### Visualizing the MNIST latent dimension\n",
    "\n",
    "Now, that we have trained a stacked autoencoder, we can use it to reduce the dataset's dimensionality. For visualization, this does not give great results compared to other dimensionality reduction algorithms, but one big advantage of autoencoders is that they can handle large datasets with many instances and features. So one strategy is to use an autoencoder to reduce the dimensionality down to a reasonable level, then use another dimensionality reduction algorithm for visualization, for example **t-distributed stochastic neighbor embedding (t-SNE)** method.\n",
    "\n",
    "These data encodings via autoencoders are often the starting point for subsequent clustering or classification methods. The encoding mechanism of an autoencoder serves as feature extractor from high-dimensional data like images or audio.  "
   ]
  },
  {
   "cell_type": "code",
   "execution_count": null,
   "metadata": {},
   "outputs": [],
   "source": [
    "from sklearn.manifold import TSNE\n",
    "\n",
    "def visualize_encodings(test_dataset, encoder, classes):\n",
    "\n",
    "    # get labels as digits\n",
    "    y_test = []\n",
    "    for feature, one_hot in test_dataset.as_numpy_iterator():\n",
    "        y_test.append(np.argmax(one_hot))\n",
    "    y_test = np.array(y_test)\n",
    "    \n",
    "    # let encoder predict test set\n",
    "    X_test_latent = encoder.predict(test_dataset)\n",
    "\n",
    "    # use tsne as dimensionality reduction to 2-D\n",
    "    tsne = TSNE()\n",
    "    X_test_latent_2D = tsne.fit_transform(X_test_latent.reshape(X_test_latent.shape[0], -1))\n",
    "\n",
    "    # setup figure\n",
    "    fig, ax = plt.subplots(1, 1, figsize=(12, 6))\n",
    "    plt.gca().set_prop_cycle(plt.cycler('color', plt.cm.tab10(np.linspace(0, 1, len(classes)))))\n",
    "\n",
    "    # plot each class in latent dimension\n",
    "    for l in np.unique(y_test):\n",
    "        ix = np.where(y_test == l)\n",
    "        ax.scatter(X_test_latent_2D[ix, 0], \n",
    "                   X_test_latent_2D[ix, 1], \n",
    "                   label=classes[l], s=10)\n",
    "\n",
    "    ax.legend(loc='lower left')"
   ]
  },
  {
   "cell_type": "markdown",
   "metadata": {
    "cell_id": "00012-c9c22e21-ba68-4aa1-b8bb-b50ca7c12645",
    "deepnote_cell_type": "markdown",
    "id": "uItTqzdk1Isf"
   },
   "source": [
    "In the first step, we're loading the train and test datasets as shown in the last lecture as well as the saved config file:"
   ]
  },
  {
   "cell_type": "code",
   "execution_count": null,
   "metadata": {
    "cell_id": "00013-803e308b-4cb7-476c-b90d-73af06441263",
    "colab": {
     "base_uri": "https://localhost:8080/"
    },
    "deepnote_cell_type": "code",
    "deepnote_to_be_reexecuted": false,
    "executionInfo": {
     "elapsed": 40408,
     "status": "ok",
     "timestamp": 1608714349082,
     "user": {
      "displayName": "Fabian Seipel",
      "photoUrl": "https://lh3.googleusercontent.com/a-/AOh14Gh8YVHF3qhtE29H3VXcs8F3wQ7yT5xvIZgIn8YBWw=s64",
      "userId": "13634335260986624818"
     },
     "user_tz": -60
    },
    "execution_millis": 735,
    "execution_start": 1641660791987,
    "id": "ziYM3gcs1Isg",
    "outputId": "430c12d9-6a80-45a0-c0d9-5ad677cd6f3a",
    "source_hash": "4bb7a74e"
   },
   "outputs": [
    {
     "ename": "NotFoundError",
     "evalue": "Could not find metadata file. [Op:LoadDataset]",
     "output_type": "error",
     "traceback": [
      "\u001b[1;31m---------------------------------------------------------------------------\u001b[0m",
      "\u001b[1;31mNotFoundError\u001b[0m                             Traceback (most recent call last)",
      "\u001b[1;32mC:\\Users\\SEBAST~1.BER\\AppData\\Local\\Temp/ipykernel_12052/2619848598.py\u001b[0m in \u001b[0;36m<module>\u001b[1;34m\u001b[0m\n\u001b[0;32m     13\u001b[0m \u001b[1;33m\u001b[0m\u001b[0m\n\u001b[0;32m     14\u001b[0m \u001b[1;31m# TRAIN AND EVAL DATASET ---------------------------------------------\u001b[0m\u001b[1;33m\u001b[0m\u001b[1;33m\u001b[0m\u001b[1;33m\u001b[0m\u001b[0m\n\u001b[1;32m---> 15\u001b[1;33m dataset = tf.data.experimental.load(f'./_data/TinyUrbanSound8k_train_2', \n\u001b[0m\u001b[0;32m     16\u001b[0m                                     (tf.TensorSpec(shape=(config['n_mels'], config['n_frames'], 1), dtype=tf.float32, name=None), \n\u001b[0;32m     17\u001b[0m                                      tf.TensorSpec(shape=(len(config['classes']),), dtype=tf.uint8, name=None)), \n",
      "\u001b[1;32m~\\Anaconda3\\envs\\dl4aed\\lib\\site-packages\\tensorflow\\python\\data\\experimental\\ops\\io.py\u001b[0m in \u001b[0;36mload\u001b[1;34m(path, element_spec, compression, reader_func)\u001b[0m\n\u001b[0;32m    307\u001b[0m   \"\"\"\n\u001b[0;32m    308\u001b[0m \u001b[1;33m\u001b[0m\u001b[0m\n\u001b[1;32m--> 309\u001b[1;33m   return _LoadDataset(\n\u001b[0m\u001b[0;32m    310\u001b[0m       \u001b[0mpath\u001b[0m\u001b[1;33m=\u001b[0m\u001b[0mpath\u001b[0m\u001b[1;33m,\u001b[0m\u001b[1;33m\u001b[0m\u001b[1;33m\u001b[0m\u001b[0m\n\u001b[0;32m    311\u001b[0m       \u001b[0melement_spec\u001b[0m\u001b[1;33m=\u001b[0m\u001b[0melement_spec\u001b[0m\u001b[1;33m,\u001b[0m\u001b[1;33m\u001b[0m\u001b[1;33m\u001b[0m\u001b[0m\n",
      "\u001b[1;32m~\\Anaconda3\\envs\\dl4aed\\lib\\site-packages\\tensorflow\\python\\data\\experimental\\ops\\io.py\u001b[0m in \u001b[0;36m__init__\u001b[1;34m(self, path, element_spec, compression, reader_func)\u001b[0m\n\u001b[0;32m    231\u001b[0m             dataset_ops.DatasetSpec(self._element_spec)))\n\u001b[0;32m    232\u001b[0m \u001b[1;33m\u001b[0m\u001b[0m\n\u001b[1;32m--> 233\u001b[1;33m     variant_tensor = gen_experimental_dataset_ops.load_dataset(\n\u001b[0m\u001b[0;32m    234\u001b[0m         \u001b[0mpath\u001b[0m\u001b[1;33m,\u001b[0m\u001b[1;33m\u001b[0m\u001b[1;33m\u001b[0m\u001b[0m\n\u001b[0;32m    235\u001b[0m         \u001b[0mreader_func_other_args\u001b[0m\u001b[1;33m=\u001b[0m\u001b[0mself\u001b[0m\u001b[1;33m.\u001b[0m\u001b[0m_reader_func\u001b[0m\u001b[1;33m.\u001b[0m\u001b[0mfunction\u001b[0m\u001b[1;33m.\u001b[0m\u001b[0mcaptured_inputs\u001b[0m\u001b[1;33m,\u001b[0m\u001b[1;33m\u001b[0m\u001b[1;33m\u001b[0m\u001b[0m\n",
      "\u001b[1;32m~\\Anaconda3\\envs\\dl4aed\\lib\\site-packages\\tensorflow\\python\\ops\\gen_experimental_dataset_ops.py\u001b[0m in \u001b[0;36mload_dataset\u001b[1;34m(path, reader_func_other_args, output_types, output_shapes, reader_func, compression, name)\u001b[0m\n\u001b[0;32m   5957\u001b[0m       \u001b[1;32mpass\u001b[0m\u001b[1;33m\u001b[0m\u001b[1;33m\u001b[0m\u001b[0m\n\u001b[0;32m   5958\u001b[0m     \u001b[1;32mtry\u001b[0m\u001b[1;33m:\u001b[0m\u001b[1;33m\u001b[0m\u001b[1;33m\u001b[0m\u001b[0m\n\u001b[1;32m-> 5959\u001b[1;33m       return load_dataset_eager_fallback(\n\u001b[0m\u001b[0;32m   5960\u001b[0m           \u001b[0mpath\u001b[0m\u001b[1;33m,\u001b[0m \u001b[0mreader_func_other_args\u001b[0m\u001b[1;33m,\u001b[0m \u001b[0moutput_types\u001b[0m\u001b[1;33m=\u001b[0m\u001b[0moutput_types\u001b[0m\u001b[1;33m,\u001b[0m\u001b[1;33m\u001b[0m\u001b[1;33m\u001b[0m\u001b[0m\n\u001b[0;32m   5961\u001b[0m           \u001b[0moutput_shapes\u001b[0m\u001b[1;33m=\u001b[0m\u001b[0moutput_shapes\u001b[0m\u001b[1;33m,\u001b[0m \u001b[0mcompression\u001b[0m\u001b[1;33m=\u001b[0m\u001b[0mcompression\u001b[0m\u001b[1;33m,\u001b[0m\u001b[1;33m\u001b[0m\u001b[1;33m\u001b[0m\u001b[0m\n",
      "\u001b[1;32m~\\Anaconda3\\envs\\dl4aed\\lib\\site-packages\\tensorflow\\python\\ops\\gen_experimental_dataset_ops.py\u001b[0m in \u001b[0;36mload_dataset_eager_fallback\u001b[1;34m(path, reader_func_other_args, output_types, output_shapes, reader_func, compression, name, ctx)\u001b[0m\n\u001b[0;32m   6019\u001b[0m   \u001b[1;34m\"compression\"\u001b[0m\u001b[1;33m,\u001b[0m \u001b[0mcompression\u001b[0m\u001b[1;33m,\u001b[0m \u001b[1;34m\"reader_func\"\u001b[0m\u001b[1;33m,\u001b[0m \u001b[0mreader_func\u001b[0m\u001b[1;33m,\u001b[0m \u001b[1;34m\"Treader_func_args\"\u001b[0m\u001b[1;33m,\u001b[0m\u001b[1;33m\u001b[0m\u001b[1;33m\u001b[0m\u001b[0m\n\u001b[0;32m   6020\u001b[0m   _attr_Treader_func_args)\n\u001b[1;32m-> 6021\u001b[1;33m   _result = _execute.execute(b\"LoadDataset\", 1, inputs=_inputs_flat,\n\u001b[0m\u001b[0;32m   6022\u001b[0m                              attrs=_attrs, ctx=ctx, name=name)\n\u001b[0;32m   6023\u001b[0m   \u001b[1;32mif\u001b[0m \u001b[0m_execute\u001b[0m\u001b[1;33m.\u001b[0m\u001b[0mmust_record_gradient\u001b[0m\u001b[1;33m(\u001b[0m\u001b[1;33m)\u001b[0m\u001b[1;33m:\u001b[0m\u001b[1;33m\u001b[0m\u001b[1;33m\u001b[0m\u001b[0m\n",
      "\u001b[1;32m~\\Anaconda3\\envs\\dl4aed\\lib\\site-packages\\tensorflow\\python\\eager\\execute.py\u001b[0m in \u001b[0;36mquick_execute\u001b[1;34m(op_name, num_outputs, inputs, attrs, ctx, name)\u001b[0m\n\u001b[0;32m     56\u001b[0m   \u001b[1;32mtry\u001b[0m\u001b[1;33m:\u001b[0m\u001b[1;33m\u001b[0m\u001b[1;33m\u001b[0m\u001b[0m\n\u001b[0;32m     57\u001b[0m     \u001b[0mctx\u001b[0m\u001b[1;33m.\u001b[0m\u001b[0mensure_initialized\u001b[0m\u001b[1;33m(\u001b[0m\u001b[1;33m)\u001b[0m\u001b[1;33m\u001b[0m\u001b[1;33m\u001b[0m\u001b[0m\n\u001b[1;32m---> 58\u001b[1;33m     tensors = pywrap_tfe.TFE_Py_Execute(ctx._handle, device_name, op_name,\n\u001b[0m\u001b[0;32m     59\u001b[0m                                         inputs, attrs, num_outputs)\n\u001b[0;32m     60\u001b[0m   \u001b[1;32mexcept\u001b[0m \u001b[0mcore\u001b[0m\u001b[1;33m.\u001b[0m\u001b[0m_NotOkStatusException\u001b[0m \u001b[1;32mas\u001b[0m \u001b[0me\u001b[0m\u001b[1;33m:\u001b[0m\u001b[1;33m\u001b[0m\u001b[1;33m\u001b[0m\u001b[0m\n",
      "\u001b[1;31mNotFoundError\u001b[0m: Could not find metadata file. [Op:LoadDataset]"
     ]
    }
   ],
   "source": [
    "# load config parameters again\n",
    "with open(\"_data/TinyUrbanSound8k_config.json\", \"r\") as read_file:\n",
    "    config = json.load(read_file)\n",
    "\n",
    "# autotune computation\n",
    "AUTOTUNE = tf.data.experimental.AUTOTUNE\n",
    "\n",
    "# normalize data or not\n",
    "NORMALIZE = False\n",
    "\n",
    "# mfccs or not\n",
    "MFCCS = False\n",
    "\n",
    "# TRAIN AND EVAL DATASET ---------------------------------------------\n",
    "dataset = tf.data.experimental.load(f'./_data/TinyUrbanSound8k_train', \n",
    "                                    (tf.TensorSpec(shape=(config['n_mels'], config['n_frames'], 1), dtype=tf.float32, name=None), \n",
    "                                     tf.TensorSpec(shape=(len(config['classes']),), dtype=tf.uint8, name=None)), \n",
    "                                     compression='GZIP')\n",
    "\n",
    "# scale spectrogram amplitude logarithmically\n",
    "dataset = dataset.map(lambda mel_spec, y: (tf.math.log(mel_spec + 1e-6), y), num_parallel_calls=AUTOTUNE)\n",
    "\n",
    "# -------------------------------------------------- \n",
    "# NEW: normalize over dataset\n",
    "if NORMALIZE:\n",
    "    dataset_max = np.max(np.array([np.max(el[0].numpy()) for el in dataset]))\n",
    "    dataset_min = np.min(np.array([np.min(el[0].numpy()) for el in dataset]))\n",
    "    dataset = dataset.map(lambda mel_spec, y: ((mel_spec - dataset_min) / (dataset_max - dataset_min) , y), num_parallel_calls=AUTOTUNE)\n",
    "\n",
    "# NEW: pad spectrogram to 64x64\n",
    "dataset = dataset.map(lambda mel_spec, y: (tf.image.resize_with_pad(mel_spec, 64, 64), y), num_parallel_calls=AUTOTUNE)\n",
    "\n",
    "# NEW: convert to mfccs\n",
    "if MFCCS:\n",
    "    dataset = dataset.map(lambda mel_spec, y: (tf.squeeze(mel_spec, axis=-1), y), num_parallel_calls=AUTOTUNE)\n",
    "    dataset = dataset.map(lambda mel_spec, y: (tf.transpose(mel_spec), y), num_parallel_calls=AUTOTUNE)\n",
    "    dataset = dataset.map(lambda mel_spec, y: (tf.signal.mfccs_from_log_mel_spectrograms(mel_spec)[..., :MFCCS], y), num_parallel_calls=AUTOTUNE)\n",
    "    dataset = dataset.map(lambda mel_spec, y: (tf.transpose(mel_spec), y), num_parallel_calls=AUTOTUNE)\n",
    "    dataset = dataset.map(lambda mel_spec, y: (tf.expand_dims(mel_spec, axis=-1), y), num_parallel_calls=AUTOTUNE)    \n",
    "    \n",
    "# NEW: map spectrograms as featuers AND labels\n",
    "dataset = dataset.map(lambda mel_spec, y: (mel_spec, mel_spec), num_parallel_calls=AUTOTUNE)\n",
    "# --------------------------------------------------\n",
    "\n",
    "\n",
    "# shuffle before splitting in train and eval dataset\n",
    "dataset = dataset.shuffle(buffer_size=4000)\n",
    "\n",
    "# take first 80% from dataset\n",
    "train_dataset = dataset.take(3200).shuffle(buffer_size=3200).batch(64).prefetch(AUTOTUNE)\n",
    "\n",
    "# take last 20% samples from dataset \n",
    "eval_dataset = dataset.skip(3200).batch(1).prefetch(AUTOTUNE)\n",
    "\n",
    "\n",
    "\n",
    "# TEST DATASET -----------------------------------------------------------\n",
    "test_dataset = tf.data.experimental.load(f'./_data/TinyUrbanSound8k_test', \n",
    "                                    (tf.TensorSpec(shape=(config['n_mels'], config['n_frames'], 1), dtype=tf.float32, name=None), \n",
    "                                     tf.TensorSpec(shape=(len(config['classes']),), dtype=tf.uint8, name=None)), \n",
    "                                    compression='GZIP')\n",
    "\n",
    "# scale spectrogram amplitude logarithmically\n",
    "test_dataset = test_dataset.map(lambda mel_spec, y: (tf.math.log(mel_spec + 1e-6), y), num_parallel_calls=AUTOTUNE)\n",
    "\n",
    "# -------------------------------------------------- \n",
    "# NEW: normalize over dataset\n",
    "if NORMALIZE:\n",
    "    test_dataset_max = np.max(np.array([np.max(el[0].numpy()) for el in test_dataset]))\n",
    "    test_dataset_min = np.min(np.array([np.min(el[0].numpy()) for el in test_dataset]))\n",
    "    test_dataset = test_dataset.map(lambda mel_spec, y: ((mel_spec - test_dataset_min) / (test_dataset_max - test_dataset_min) , y), num_parallel_calls=AUTOTUNE)\n",
    "\n",
    "# NEW: pad spectrogram to 64x64\n",
    "test_dataset = test_dataset.map(lambda mel_spec, y: (tf.image.resize_with_pad(mel_spec, 64, 64), y), num_parallel_calls=AUTOTUNE)\n",
    "\n",
    "# NEW: convert to mfccs\n",
    "if MFCCS:\n",
    "    test_dataset = test_dataset.map(lambda mel_spec, y: (tf.squeeze(mel_spec, axis=-1), y), num_parallel_calls=AUTOTUNE)\n",
    "    test_dataset = test_dataset.map(lambda mel_spec, y: (tf.transpose(mel_spec), y), num_parallel_calls=AUTOTUNE)\n",
    "    test_dataset = test_dataset.map(lambda mel_spec, y: (tf.signal.mfccs_from_log_mel_spectrograms(mel_spec)[..., :MFCCS], y), num_parallel_calls=AUTOTUNE)\n",
    "    test_dataset = test_dataset.map(lambda mel_spec, y: (tf.transpose(mel_spec), y), num_parallel_calls=AUTOTUNE)\n",
    "    test_dataset = test_dataset.map(lambda mel_spec, y: (tf.expand_dims(mel_spec, axis=-1), y), num_parallel_calls=AUTOTUNE)    \n",
    "\n",
    "# --------------------------------------------------\n",
    "\n",
    "# batch dataset\n",
    "test_dataset = test_dataset.cache().batch(1).prefetch(AUTOTUNE)\n",
    "\n",
    "\n",
    "\n",
    "# Dataset attributes ------------------------------\n",
    "print('Attribues of TRAINING set: (SPECS AS FEATUERS AND LABELS)')\n",
    "print('--------------------------')\n",
    "print('Feature_shape: %s' % train_dataset.element_spec[0].shape)\n",
    "print('Label_shape: %s' % train_dataset.element_spec[1].shape)\n",
    "print('Number of batches: %s' % len(list(train_dataset)))\n",
    "print('\\n')\n",
    "\n",
    "print('Attribues of EVAL set: (SPECS AS FEATUERS AND LABELS)')\n",
    "print('--------------------------')\n",
    "print('Feature_shape: %s' % eval_dataset.element_spec[0].shape)\n",
    "print('Label_shape: %s' % eval_dataset.element_spec[1].shape)\n",
    "print('Number of batches: %s' % len(list(eval_dataset)))\n",
    "print('\\n')\n",
    "\n",
    "print('Attribues of TEST set: (WITH CLASS-LABELS)')\n",
    "print('--------------------------')\n",
    "print('Feature_shape: %s' % test_dataset.element_spec[0].shape)\n",
    "print('Label_shape: %s' % test_dataset.element_spec[1].shape)\n",
    "print('Number of batches: %s' % len(list(test_dataset)))\n",
    "print('\\n')"
   ]
  },
  {
   "cell_type": "code",
   "execution_count": null,
   "metadata": {
    "cell_id": "00014-2b05c817-28aa-4a5c-a948-346a1af0be47",
    "colab": {
     "base_uri": "https://localhost:8080/"
    },
    "deepnote_cell_type": "code",
    "executionInfo": {
     "elapsed": 39427,
     "status": "ok",
     "timestamp": 1608714349083,
     "user": {
      "displayName": "Fabian Seipel",
      "photoUrl": "https://lh3.googleusercontent.com/a-/AOh14Gh8YVHF3qhtE29H3VXcs8F3wQ7yT5xvIZgIn8YBWw=s64",
      "userId": "13634335260986624818"
     },
     "user_tz": -60
    },
    "id": "lOsVd-gZAnGC",
    "outputId": "409814f8-8211-415e-8cf1-000086121f1d"
   },
   "outputs": [
    {
     "data": {
      "text/plain": [
       "['children_playing', 'dog_bark', 'siren', 'street_music']"
      ]
     },
     "execution_count": 10,
     "metadata": {},
     "output_type": "execute_result"
    }
   ],
   "source": [
    "classes_tus8k = config['classes']\n",
    "classes_tus8k"
   ]
  },
  {
   "cell_type": "markdown",
   "metadata": {
    "cell_id": "00015-dcbd1613-0575-4412-992d-cf7bb10ed496",
    "deepnote_cell_type": "markdown",
    "id": "5E4mtt961Isg"
   },
   "source": [
    "---"
   ]
  },
  {
   "cell_type": "markdown",
   "metadata": {
    "cell_id": "00020-f93c47c8-a513-4e04-affe-9fed498e7cf2",
    "deepnote_cell_type": "markdown",
    "id": "Hfi9kCoqQOct"
   },
   "source": [
    "---"
   ]
  },
  {
   "cell_type": "markdown",
   "metadata": {
    "cell_id": "00021-9c356413-3f2d-4373-b9ea-ec86d1fca1d1",
    "deepnote_cell_type": "markdown",
    "id": "XiqoVHL41Ish"
   },
   "source": [
    "# 2. Autoencoders"
   ]
  },
  {
   "cell_type": "markdown",
   "metadata": {
    "cell_id": "00022-03a70132-7b73-4a2e-b187-5c47c8771bfa",
    "deepnote_cell_type": "markdown",
    "id": "-vE2-V9d1Ish"
   },
   "source": [
    "Autoencoders are artificial neural networks capable of learning dense representations of the input data, called **latent representations** or codings, without any supervision (i.e., the training set is unlabeled). These codings typically have a much lower dimensionality than the input data, making autoencoders useful for **dimensionality reduction**, especially for visualization purposes. Autoencoders also act as **feature detectors**, and they can be used for unsupervised pretraining of deep neural networks. Lastly, some autoencoders are generative models: they are capable of **randomly generating new data** that looks very similar to the training data. For example, you could train an autoencoder on pictures of faces, and it would then be able to generate new faces. However, the generated images are usually fuzzy and not entirely realistic.\n",
    "\n",
    "Autoencoders simply learn to copy their inputs to their outputs. This may sound\n",
    "like a trivial task, but we will see that constraining the network in various ways\n",
    "can make it rather difficult. For example, you can limit the size of the latent rep-\n",
    "resentations, or you can add noise to the inputs and train the network to recover\n",
    "the original inputs. These constraints prevent the autoencoder from trivially\n",
    "copying the inputs directly to the outputs, which forces it to learn efficient ways\n",
    "of representing the data. In short, the codings are byproducts of the autoencoder\n",
    "learning the identity function under some constraints."
   ]
  },
  {
   "cell_type": "markdown",
   "metadata": {
    "cell_id": "00033-c3f6ad41-a60c-426b-b09c-b934d509416a",
    "deepnote_cell_type": "markdown",
    "id": "ryF7yU9tAnGJ"
   },
   "source": [
    "---"
   ]
  },
  {
   "cell_type": "markdown",
   "metadata": {
    "cell_id": "00034-af973908-a762-4e8b-885c-34e04806bd72",
    "deepnote_cell_type": "markdown",
    "id": "KvEOeOs1WrrT"
   },
   "source": [
    "### Train Vanilla Autoencoder on TinyUrbanSound8k specs"
   ]
  },
  {
   "cell_type": "code",
   "execution_count": null,
   "metadata": {
    "cell_id": "00035-d3b63fbb-3151-4d84-948a-f40768a13501",
    "colab": {
     "base_uri": "https://localhost:8080/"
    },
    "deepnote_cell_type": "code",
    "executionInfo": {
     "elapsed": 65051,
     "status": "ok",
     "timestamp": 1608653826834,
     "user": {
      "displayName": "Fabian Seipel",
      "photoUrl": "https://lh3.googleusercontent.com/a-/AOh14Gh8YVHF3qhtE29H3VXcs8F3wQ7yT5xvIZgIn8YBWw=s64",
      "userId": "13634335260986624818"
     },
     "user_tz": -60
    },
    "id": "euOliHxOTuQp",
    "outputId": "9670d568-9eb1-4c6a-ab72-f8dee5fea694"
   },
   "outputs": [
    {
     "name": "stdout",
     "output_type": "stream",
     "text": [
      "Model: \"encoder_dense\"\n",
      "_________________________________________________________________\n",
      " Layer (type)                Output Shape              Param #   \n",
      "=================================================================\n",
      " input_3 (InputLayer)        [(None, 64, 64, 1)]       0         \n",
      "                                                                 \n",
      " lambda_3 (Lambda)           (None, 64, 64, 1)         0         \n",
      "                                                                 \n",
      " flatten_1 (Flatten)         (None, 4096)              0         \n",
      "                                                                 \n",
      " dense_5 (Dense)             (None, 256)               1048832   \n",
      "                                                                 \n",
      " dense_6 (Dense)             (None, 64)                16448     \n",
      "                                                                 \n",
      " latent_dimension (Dense)    (None, 32)                2080      \n",
      "                                                                 \n",
      "=================================================================\n",
      "Total params: 1,067,360\n",
      "Trainable params: 1,067,360\n",
      "Non-trainable params: 0\n",
      "_________________________________________________________________\n",
      "Model: \"decoder_dense\"\n",
      "_________________________________________________________________\n",
      " Layer (type)                Output Shape              Param #   \n",
      "=================================================================\n",
      " input_4 (InputLayer)        [(None, 32)]              0         \n",
      "                                                                 \n",
      " lambda_4 (Lambda)           (None, 32)                0         \n",
      "                                                                 \n",
      " dense_7 (Dense)             (None, 64)                2112      \n",
      "                                                                 \n",
      " dense_8 (Dense)             (None, 256)               16640     \n",
      "                                                                 \n",
      " dense_9 (Dense)             (None, 4096)              1052672   \n",
      "                                                                 \n",
      " reshape_1 (Reshape)         (None, 64, 64, 1)         0         \n",
      "                                                                 \n",
      " lambda_5 (Lambda)           (None, 64, 64, 1)         0         \n",
      "                                                                 \n",
      "=================================================================\n",
      "Total params: 1,071,424\n",
      "Trainable params: 1,071,424\n",
      "Non-trainable params: 0\n",
      "_________________________________________________________________\n",
      "Model: \"autoencoder_dense\"\n",
      "_________________________________________________________________\n",
      " Layer (type)                Output Shape              Param #   \n",
      "=================================================================\n",
      " input_3 (InputLayer)        [(None, 64, 64, 1)]       0         \n",
      "                                                                 \n",
      " encoder_dense (Functional)  (None, 32)                1067360   \n",
      "                                                                 \n",
      " decoder_dense (Functional)  (None, 64, 64, 1)         1071424   \n",
      "                                                                 \n",
      "=================================================================\n",
      "Total params: 2,138,784\n",
      "Trainable params: 2,138,784\n",
      "Non-trainable params: 0\n",
      "_________________________________________________________________\n",
      "Epoch 1/2\n",
      "50/50 [==============================] - 13s 183ms/step - loss: 61.5651 - mse: 61.5651 - val_loss: 15.0288 - val_mse: 15.0288 - lr: 0.0010\n",
      "Epoch 2/2\n",
      "50/50 [==============================] - 10s 181ms/step - loss: 15.3811 - mse: 15.3811 - val_loss: 7.2506 - val_mse: 7.2506 - lr: 0.0010\n"
     ]
    },
    {
     "data": {
      "text/plain": [
       "<keras.callbacks.History at 0x203bcd84c10>"
      ]
     },
     "execution_count": 12,
     "metadata": {},
     "output_type": "execute_result"
    }
   ],
   "source": [
    "# get data input shape\n",
    "input_shape = train_dataset.element_spec[0].shape[1:]\n",
    "\n",
    "# get autoencoder \n",
    "dense_layers = [256, 64]\n",
    "codings_size = 32\n",
    "ae_dense_tus8k, enc_dense_tus8k, _ = get_autoencoder_dense(input_shape, dense_layers, codings_size)\n",
    "\n",
    "# compile the model with adam optimizer and mean squeared error as its loss function\n",
    "ae_dense_tus8k.compile(optimizer=tf.keras.optimizers.Nadam(learning_rate=0.001, clipnorm=1), \n",
    "                     loss='mse', metrics=['mse'])\n",
    "\n",
    "reduce_lro_cb = tf.keras.callbacks.ReduceLROnPlateau(monitor='loss', \n",
    "                                                     factor=0.5, patience=5, verbose=1, \n",
    "                                                     mode='min', min_delta=0.0001, \n",
    "                                                     cooldown=0, min_lr=0)\n",
    "# train the model\n",
    "ae_dense_tus8k.fit(train_dataset,\n",
    "                 epochs=2, \n",
    "                 validation_data=eval_dataset,\n",
    "                 callbacks=[reduce_lro_cb])"
   ]
  },
  {
   "cell_type": "markdown",
   "metadata": {
    "cell_id": "00036-393467d4-0b3b-4a48-a877-9dd14417bb3a",
    "deepnote_cell_type": "markdown",
    "id": "S8DbNs2xAnGJ"
   },
   "source": [
    "### Visualizing the TUS8k reconstructions"
   ]
  },
  {
   "cell_type": "code",
   "execution_count": null,
   "metadata": {
    "cell_id": "00037-9eaf377b-2f79-4a90-a110-efab9f889c68",
    "colab": {
     "base_uri": "https://localhost:8080/",
     "height": 482
    },
    "deepnote_cell_type": "code",
    "executionInfo": {
     "elapsed": 989,
     "status": "ok",
     "timestamp": 1608653913642,
     "user": {
      "displayName": "Fabian Seipel",
      "photoUrl": "https://lh3.googleusercontent.com/a-/AOh14Gh8YVHF3qhtE29H3VXcs8F3wQ7yT5xvIZgIn8YBWw=s64",
      "userId": "13634335260986624818"
     },
     "user_tz": -60
    },
    "id": "4HKHy9A5AnGJ",
    "outputId": "3c4f789f-dfc9-4345-b40f-8bb4f5331f08"
   },
   "outputs": [
    {
     "data": {
      "image/png": "[encoded data removed]",
      "text/plain": [
       "<Figure size 576x576 with 4 Axes>"
      ]
     },
     "metadata": {
      "needs_background": "light"
     },
     "output_type": "display_data"
    }
   ],
   "source": [
    "# call visualize reconstructions function\n",
    "visualize_reconstructions(test_dataset, ae_dense_tus8k, classes_tus8k)"
   ]
  },
  {
   "cell_type": "markdown",
   "metadata": {
    "cell_id": "00038-444d7436-dbe4-45c1-be37-0051d859a2a0",
    "deepnote_cell_type": "markdown",
    "id": "zxnAnCKoAnGJ"
   },
   "source": [
    "### Visualizing the TUS8k latent dimension"
   ]
  },
  {
   "cell_type": "code",
   "execution_count": null,
   "metadata": {
    "cell_id": "00039-be86c8b5-3b38-4b96-8498-51676cd544d8",
    "colab": {
     "base_uri": "https://localhost:8080/",
     "height": 381
    },
    "deepnote_cell_type": "code",
    "executionInfo": {
     "elapsed": 10343,
     "status": "ok",
     "timestamp": 1608653978168,
     "user": {
      "displayName": "Fabian Seipel",
      "photoUrl": "https://lh3.googleusercontent.com/a-/AOh14Gh8YVHF3qhtE29H3VXcs8F3wQ7yT5xvIZgIn8YBWw=s64",
      "userId": "13634335260986624818"
     },
     "user_tz": -60
    },
    "id": "n-NKHGl3AnGJ",
    "outputId": "eb5a51ba-6cd0-4fdc-b877-a589d4425d46"
   },
   "outputs": [
    {
     "name": "stderr",
     "output_type": "stream",
     "text": [
      "C:\\Users\\sebastian.bernhardt\\Anaconda3\\envs\\dl4aed\\lib\\site-packages\\sklearn\\manifold\\_t_sne.py:780: FutureWarning: The default initialization in TSNE will change from 'random' to 'pca' in 1.2.\n",
      "  warnings.warn(\n",
      "C:\\Users\\sebastian.bernhardt\\Anaconda3\\envs\\dl4aed\\lib\\site-packages\\sklearn\\manifold\\_t_sne.py:790: FutureWarning: The default learning rate in TSNE will change from 200.0 to 'auto' in 1.2.\n",
      "  warnings.warn(\n"
     ]
    },
    {
     "data": {
      "image/png": "[encoded data removed]",
      "text/plain": [
       "<Figure size 864x432 with 1 Axes>"
      ]
     },
     "metadata": {
      "needs_background": "light"
     },
     "output_type": "display_data"
    }
   ],
   "source": [
    "visualize_encodings(test_dataset, ae_dense_tus8k, classes_tus8k)"
   ]
  },
  {
   "cell_type": "markdown",
   "metadata": {
    "cell_id": "00040-54c99540-3285-4b55-ba4a-c3775fa04cd7",
    "deepnote_cell_type": "markdown",
    "id": "rz6Qs1o41Isi"
   },
   "source": [
    "---"
   ]
  },
  {
   "cell_type": "markdown",
   "metadata": {
    "cell_id": "00041-fd79e6d7-426d-4bf8-a35c-573f83b064a3",
    "deepnote_cell_type": "markdown",
    "id": "edt12PY11Isi"
   },
   "source": [
    "## 2.2. Convolutional Autoencoders\n",
    "\n",
    "If you are dealing with audio or images, then simple stacked autoencoders will not work well (unless the audio/images are very small): as we saw in Lecture 03, convolutional neural networks are far better suited than dense networks to work with images. So if you want to build an autoencoder for audio/images, you will need to build a convolutional autoencoder. The encoder is a regular CNN composed of convolutional layers and pooling layers. It typically reduces the spatial dimensionality of the inputs (i.e., height and width) while increasing the depth (ie., the number of feature maps). The decoder must do the reverse (upscale the image and reduce its depth back to the original dimensions), and for this you can use transpose convolutional layers (alternatively, you could combine upsampling layers with convolutional layers). "
   ]
  },
  {
   "cell_type": "code",
   "execution_count": null,
   "metadata": {
    "cell_id": "00042-1646e019-ba1d-4e5b-ad51-8db607dabd45",
    "deepnote_cell_type": "code",
    "executionInfo": {
     "elapsed": 598,
     "status": "ok",
     "timestamp": 1608654444443,
     "user": {
      "displayName": "Fabian Seipel",
      "photoUrl": "https://lh3.googleusercontent.com/a-/AOh14Gh8YVHF3qhtE29H3VXcs8F3wQ7yT5xvIZgIn8YBWw=s64",
      "userId": "13634335260986624818"
     },
     "user_tz": -60
    },
    "id": "BCkyagSz1Isi"
   },
   "outputs": [],
   "source": [
    "def get_autoencoder_conv(input_shape, filters):\n",
    "\n",
    "    # ENCODER --------------------------------------------------\n",
    "    # encoder input\n",
    "    encoder_input = tf.keras.layers.Input(shape=input_shape)\n",
    "    x = tf.keras.layers.Lambda(lambda x: x)(encoder_input)\n",
    "    \n",
    "    # iterate filters\n",
    "    for f  in filters:\n",
    "        x = tf.keras.layers.Convolution2D(filters=f, kernel_size=(3, 3), activation='elu', padding='same', kernel_initializer='he_normal')(x)\n",
    "        x = tf.keras.layers.AveragePooling2D(pool_size=(2, 2))(x)\n",
    "        x = tf.keras.layers.BatchNormalization()(x)\n",
    "\n",
    "    # spectrogram encoded\n",
    "    latent_dimension = tf.keras.layers.Lambda(lambda x: x, name='latent_dimension')(x)\n",
    "    encoder_conv = tf.keras.Model(encoder_input, latent_dimension, name='encoder_conv')\n",
    "\n",
    "\n",
    "    # DECODER --------------------------------------------------\n",
    "    # decoder input\n",
    "    decoder_input = tf.keras.layers.Input(shape=latent_dimension.shape[1:])\n",
    "    x = tf.keras.layers.Lambda(lambda x: x)(decoder_input)\n",
    "\n",
    "    for f  in filters[::-1]:\n",
    "        x = tf.keras.layers.Convolution2DTranspose(filters=f, kernel_size=(3, 3), activation='elu', padding='same', kernel_initializer='he_normal')(x)\n",
    "        x = tf.keras.layers.UpSampling2D(size=(2, 2))(x)\n",
    "        x = tf.keras.layers.BatchNormalization()(x)\n",
    "\n",
    "    # audio decoded\n",
    "    x = tf.keras.layers.Convolution2DTranspose(filters=1, kernel_size=(1, 1), activation='linear', padding='same', name='decoder')(x)\n",
    "    \n",
    "    # setup decoder model\n",
    "    decoded_dimension = tf.keras.layers.Lambda(lambda x: x)(x)\n",
    "    decoder_conv = tf.keras.Model(decoder_input, decoded_dimension, name='decoder')\n",
    "\n",
    "\n",
    "    # AUTOENCODER --------------------------------------------------\n",
    "    # put encoder and decoder together\n",
    "    encodings = encoder_conv(encoder_input)\n",
    "    decodings = decoder_conv(encodings)\n",
    "    autoencoder_conv = tf.keras.Model(encoder_input, decodings, name='autoencoder_conv')\n",
    "\n",
    "    encoder_conv.summary()\n",
    "    decoder_conv.summary()\n",
    "    autoencoder_conv.summary()\n",
    "    \n",
    "    return autoencoder_conv, encoder_conv, decoder_conv"
   ]
  },
  {
   "cell_type": "markdown",
   "metadata": {
    "cell_id": "00043-a949e39c-3a53-4378-98a9-ea61aaaca1d2",
    "deepnote_cell_type": "markdown",
    "id": "AyOi2F-8AnGK"
   },
   "source": [
    "---"
   ]
  },
  {
   "cell_type": "markdown",
   "metadata": {
    "cell_id": "00051-3bb85989-8c41-4c02-9e46-8aa9dd6de91c",
    "deepnote_cell_type": "markdown",
    "id": "_yVYDIDCAnGL"
   },
   "source": [
    "### Train CNN Autoencoder on TinyUrbanSound8k specs"
   ]
  },
  {
   "cell_type": "code",
   "execution_count": null,
   "metadata": {
    "cell_id": "00052-b20ac193-4c0a-4887-ab4d-1ecf30914719",
    "colab": {
     "base_uri": "https://localhost:8080/"
    },
    "deepnote_cell_type": "code",
    "executionInfo": {
     "elapsed": 144592,
     "status": "ok",
     "timestamp": 1608655962233,
     "user": {
      "displayName": "Fabian Seipel",
      "photoUrl": "https://lh3.googleusercontent.com/a-/AOh14Gh8YVHF3qhtE29H3VXcs8F3wQ7yT5xvIZgIn8YBWw=s64",
      "userId": "13634335260986624818"
     },
     "user_tz": -60
    },
    "id": "2WX4II87AnGL",
    "outputId": "c65663f3-a601-4d91-eab8-d0abfc13b471"
   },
   "outputs": [
    {
     "name": "stdout",
     "output_type": "stream",
     "text": [
      "Model: \"encoder_conv\"\n",
      "_________________________________________________________________\n",
      " Layer (type)                Output Shape              Param #   \n",
      "=================================================================\n",
      " input_5 (InputLayer)        [(None, 64, 64, 1)]       0         \n",
      "                                                                 \n",
      " lambda_6 (Lambda)           (None, 64, 64, 1)         0         \n",
      "                                                                 \n",
      " conv2d (Conv2D)             (None, 64, 64, 256)       2560      \n",
      "                                                                 \n",
      " average_pooling2d (AverageP  (None, 32, 32, 256)      0         \n",
      " ooling2D)                                                       \n",
      "                                                                 \n",
      " batch_normalization (BatchN  (None, 32, 32, 256)      1024      \n",
      " ormalization)                                                   \n",
      "                                                                 \n",
      " conv2d_1 (Conv2D)           (None, 32, 32, 64)        147520    \n",
      "                                                                 \n",
      " average_pooling2d_1 (Averag  (None, 16, 16, 64)       0         \n",
      " ePooling2D)                                                     \n",
      "                                                                 \n",
      " batch_normalization_1 (Batc  (None, 16, 16, 64)       256       \n",
      " hNormalization)                                                 \n",
      "                                                                 \n",
      " latent_dimension (Lambda)   (None, 16, 16, 64)        0         \n",
      "                                                                 \n",
      "=================================================================\n",
      "Total params: 151,360\n",
      "Trainable params: 150,720\n",
      "Non-trainable params: 640\n",
      "_________________________________________________________________\n",
      "Model: \"decoder\"\n",
      "_________________________________________________________________\n",
      " Layer (type)                Output Shape              Param #   \n",
      "=================================================================\n",
      " input_6 (InputLayer)        [(None, 16, 16, 64)]      0         \n",
      "                                                                 \n",
      " lambda_7 (Lambda)           (None, 16, 16, 64)        0         \n",
      "                                                                 \n",
      " conv2d_transpose (Conv2DTra  (None, 16, 16, 64)       36928     \n",
      " nspose)                                                         \n",
      "                                                                 \n",
      " up_sampling2d (UpSampling2D  (None, 32, 32, 64)       0         \n",
      " )                                                               \n",
      "                                                                 \n",
      " batch_normalization_2 (Batc  (None, 32, 32, 64)       256       \n",
      " hNormalization)                                                 \n",
      "                                                                 \n",
      " conv2d_transpose_1 (Conv2DT  (None, 32, 32, 256)      147712    \n",
      " ranspose)                                                       \n",
      "                                                                 \n",
      " up_sampling2d_1 (UpSampling  (None, 64, 64, 256)      0         \n",
      " 2D)                                                             \n",
      "                                                                 \n",
      " batch_normalization_3 (Batc  (None, 64, 64, 256)      1024      \n",
      " hNormalization)                                                 \n",
      "                                                                 \n",
      " decoder (Conv2DTranspose)   (None, 64, 64, 1)         257       \n",
      "                                                                 \n",
      " lambda_8 (Lambda)           (None, 64, 64, 1)         0         \n",
      "                                                                 \n",
      "=================================================================\n",
      "Total params: 186,177\n",
      "Trainable params: 185,537\n",
      "Non-trainable params: 640\n",
      "_________________________________________________________________\n",
      "Model: \"autoencoder_conv\"\n",
      "_________________________________________________________________\n",
      " Layer (type)                Output Shape              Param #   \n",
      "=================================================================\n",
      " input_5 (InputLayer)        [(None, 64, 64, 1)]       0         \n",
      "                                                                 \n",
      " encoder_conv (Functional)   (None, 16, 16, 64)        151360    \n",
      "                                                                 \n",
      " decoder (Functional)        (None, 64, 64, 1)         186177    \n",
      "                                                                 \n",
      "=================================================================\n",
      "Total params: 337,537\n",
      "Trainable params: 336,257\n",
      "Non-trainable params: 1,280\n",
      "_________________________________________________________________\n",
      "Epoch 1/2\n",
      "50/50 [==============================] - 573s 11s/step - loss: 24.7320 - mse: 24.7320 - val_loss: 380.1869 - val_mse: 380.1869 - lr: 0.0010\n",
      "Epoch 2/2\n"
     ]
    },
    {
     "ename": "KeyboardInterrupt",
     "evalue": "",
     "output_type": "error",
     "traceback": [
      "\u001b[1;31m---------------------------------------------------------------------------\u001b[0m",
      "\u001b[1;31mKeyboardInterrupt\u001b[0m                         Traceback (most recent call last)",
      "\u001b[1;32mC:\\Users\\SEBAST~1.BER\\AppData\\Local\\Temp/ipykernel_16368/1833987802.py\u001b[0m in \u001b[0;36m<module>\u001b[1;34m\u001b[0m\n\u001b[0;32m     16\u001b[0m                                                      cooldown=0, min_lr=0)\n\u001b[0;32m     17\u001b[0m \u001b[1;31m# train the model\u001b[0m\u001b[1;33m\u001b[0m\u001b[1;33m\u001b[0m\u001b[1;33m\u001b[0m\u001b[0m\n\u001b[1;32m---> 18\u001b[1;33m ae_conv_tus8k.fit(train_dataset,\n\u001b[0m\u001b[0;32m     19\u001b[0m                  \u001b[0mepochs\u001b[0m\u001b[1;33m=\u001b[0m\u001b[1;36m2\u001b[0m\u001b[1;33m,\u001b[0m\u001b[1;33m\u001b[0m\u001b[1;33m\u001b[0m\u001b[0m\n\u001b[0;32m     20\u001b[0m                  \u001b[0mvalidation_data\u001b[0m\u001b[1;33m=\u001b[0m\u001b[0meval_dataset\u001b[0m\u001b[1;33m,\u001b[0m\u001b[1;33m\u001b[0m\u001b[1;33m\u001b[0m\u001b[0m\n",
      "\u001b[1;32m~\\Anaconda3\\envs\\dl4aed\\lib\\site-packages\\keras\\utils\\traceback_utils.py\u001b[0m in \u001b[0;36merror_handler\u001b[1;34m(*args, **kwargs)\u001b[0m\n\u001b[0;32m     62\u001b[0m     \u001b[0mfiltered_tb\u001b[0m \u001b[1;33m=\u001b[0m \u001b[1;32mNone\u001b[0m\u001b[1;33m\u001b[0m\u001b[1;33m\u001b[0m\u001b[0m\n\u001b[0;32m     63\u001b[0m     \u001b[1;32mtry\u001b[0m\u001b[1;33m:\u001b[0m\u001b[1;33m\u001b[0m\u001b[1;33m\u001b[0m\u001b[0m\n\u001b[1;32m---> 64\u001b[1;33m       \u001b[1;32mreturn\u001b[0m \u001b[0mfn\u001b[0m\u001b[1;33m(\u001b[0m\u001b[1;33m*\u001b[0m\u001b[0margs\u001b[0m\u001b[1;33m,\u001b[0m \u001b[1;33m**\u001b[0m\u001b[0mkwargs\u001b[0m\u001b[1;33m)\u001b[0m\u001b[1;33m\u001b[0m\u001b[1;33m\u001b[0m\u001b[0m\n\u001b[0m\u001b[0;32m     65\u001b[0m     \u001b[1;32mexcept\u001b[0m \u001b[0mException\u001b[0m \u001b[1;32mas\u001b[0m \u001b[0me\u001b[0m\u001b[1;33m:\u001b[0m  \u001b[1;31m# pylint: disable=broad-except\u001b[0m\u001b[1;33m\u001b[0m\u001b[1;33m\u001b[0m\u001b[0m\n\u001b[0;32m     66\u001b[0m       \u001b[0mfiltered_tb\u001b[0m \u001b[1;33m=\u001b[0m \u001b[0m_process_traceback_frames\u001b[0m\u001b[1;33m(\u001b[0m\u001b[0me\u001b[0m\u001b[1;33m.\u001b[0m\u001b[0m__traceback__\u001b[0m\u001b[1;33m)\u001b[0m\u001b[1;33m\u001b[0m\u001b[1;33m\u001b[0m\u001b[0m\n",
      "\u001b[1;32m~\\Anaconda3\\envs\\dl4aed\\lib\\site-packages\\keras\\engine\\training.py\u001b[0m in \u001b[0;36mfit\u001b[1;34m(self, x, y, batch_size, epochs, verbose, callbacks, validation_split, validation_data, shuffle, class_weight, sample_weight, initial_epoch, steps_per_epoch, validation_steps, validation_batch_size, validation_freq, max_queue_size, workers, use_multiprocessing)\u001b[0m\n\u001b[0;32m   1214\u001b[0m                 _r=1):\n\u001b[0;32m   1215\u001b[0m               \u001b[0mcallbacks\u001b[0m\u001b[1;33m.\u001b[0m\u001b[0mon_train_batch_begin\u001b[0m\u001b[1;33m(\u001b[0m\u001b[0mstep\u001b[0m\u001b[1;33m)\u001b[0m\u001b[1;33m\u001b[0m\u001b[1;33m\u001b[0m\u001b[0m\n\u001b[1;32m-> 1216\u001b[1;33m               \u001b[0mtmp_logs\u001b[0m \u001b[1;33m=\u001b[0m \u001b[0mself\u001b[0m\u001b[1;33m.\u001b[0m\u001b[0mtrain_function\u001b[0m\u001b[1;33m(\u001b[0m\u001b[0miterator\u001b[0m\u001b[1;33m)\u001b[0m\u001b[1;33m\u001b[0m\u001b[1;33m\u001b[0m\u001b[0m\n\u001b[0m\u001b[0;32m   1217\u001b[0m               \u001b[1;32mif\u001b[0m \u001b[0mdata_handler\u001b[0m\u001b[1;33m.\u001b[0m\u001b[0mshould_sync\u001b[0m\u001b[1;33m:\u001b[0m\u001b[1;33m\u001b[0m\u001b[1;33m\u001b[0m\u001b[0m\n\u001b[0;32m   1218\u001b[0m                 \u001b[0mcontext\u001b[0m\u001b[1;33m.\u001b[0m\u001b[0masync_wait\u001b[0m\u001b[1;33m(\u001b[0m\u001b[1;33m)\u001b[0m\u001b[1;33m\u001b[0m\u001b[1;33m\u001b[0m\u001b[0m\n",
      "\u001b[1;32m~\\Anaconda3\\envs\\dl4aed\\lib\\site-packages\\tensorflow\\python\\util\\traceback_utils.py\u001b[0m in \u001b[0;36merror_handler\u001b[1;34m(*args, **kwargs)\u001b[0m\n\u001b[0;32m    148\u001b[0m     \u001b[0mfiltered_tb\u001b[0m \u001b[1;33m=\u001b[0m \u001b[1;32mNone\u001b[0m\u001b[1;33m\u001b[0m\u001b[1;33m\u001b[0m\u001b[0m\n\u001b[0;32m    149\u001b[0m     \u001b[1;32mtry\u001b[0m\u001b[1;33m:\u001b[0m\u001b[1;33m\u001b[0m\u001b[1;33m\u001b[0m\u001b[0m\n\u001b[1;32m--> 150\u001b[1;33m       \u001b[1;32mreturn\u001b[0m \u001b[0mfn\u001b[0m\u001b[1;33m(\u001b[0m\u001b[1;33m*\u001b[0m\u001b[0margs\u001b[0m\u001b[1;33m,\u001b[0m \u001b[1;33m**\u001b[0m\u001b[0mkwargs\u001b[0m\u001b[1;33m)\u001b[0m\u001b[1;33m\u001b[0m\u001b[1;33m\u001b[0m\u001b[0m\n\u001b[0m\u001b[0;32m    151\u001b[0m     \u001b[1;32mexcept\u001b[0m \u001b[0mException\u001b[0m \u001b[1;32mas\u001b[0m \u001b[0me\u001b[0m\u001b[1;33m:\u001b[0m\u001b[1;33m\u001b[0m\u001b[1;33m\u001b[0m\u001b[0m\n\u001b[0;32m    152\u001b[0m       \u001b[0mfiltered_tb\u001b[0m \u001b[1;33m=\u001b[0m \u001b[0m_process_traceback_frames\u001b[0m\u001b[1;33m(\u001b[0m\u001b[0me\u001b[0m\u001b[1;33m.\u001b[0m\u001b[0m__traceback__\u001b[0m\u001b[1;33m)\u001b[0m\u001b[1;33m\u001b[0m\u001b[1;33m\u001b[0m\u001b[0m\n",
      "\u001b[1;32m~\\Anaconda3\\envs\\dl4aed\\lib\\site-packages\\tensorflow\\python\\eager\\def_function.py\u001b[0m in \u001b[0;36m__call__\u001b[1;34m(self, *args, **kwds)\u001b[0m\n\u001b[0;32m    908\u001b[0m \u001b[1;33m\u001b[0m\u001b[0m\n\u001b[0;32m    909\u001b[0m       \u001b[1;32mwith\u001b[0m \u001b[0mOptionalXlaContext\u001b[0m\u001b[1;33m(\u001b[0m\u001b[0mself\u001b[0m\u001b[1;33m.\u001b[0m\u001b[0m_jit_compile\u001b[0m\u001b[1;33m)\u001b[0m\u001b[1;33m:\u001b[0m\u001b[1;33m\u001b[0m\u001b[1;33m\u001b[0m\u001b[0m\n\u001b[1;32m--> 910\u001b[1;33m         \u001b[0mresult\u001b[0m \u001b[1;33m=\u001b[0m \u001b[0mself\u001b[0m\u001b[1;33m.\u001b[0m\u001b[0m_call\u001b[0m\u001b[1;33m(\u001b[0m\u001b[1;33m*\u001b[0m\u001b[0margs\u001b[0m\u001b[1;33m,\u001b[0m \u001b[1;33m**\u001b[0m\u001b[0mkwds\u001b[0m\u001b[1;33m)\u001b[0m\u001b[1;33m\u001b[0m\u001b[1;33m\u001b[0m\u001b[0m\n\u001b[0m\u001b[0;32m    911\u001b[0m \u001b[1;33m\u001b[0m\u001b[0m\n\u001b[0;32m    912\u001b[0m       \u001b[0mnew_tracing_count\u001b[0m \u001b[1;33m=\u001b[0m \u001b[0mself\u001b[0m\u001b[1;33m.\u001b[0m\u001b[0mexperimental_get_tracing_count\u001b[0m\u001b[1;33m(\u001b[0m\u001b[1;33m)\u001b[0m\u001b[1;33m\u001b[0m\u001b[1;33m\u001b[0m\u001b[0m\n",
      "\u001b[1;32m~\\Anaconda3\\envs\\dl4aed\\lib\\site-packages\\tensorflow\\python\\eager\\def_function.py\u001b[0m in \u001b[0;36m_call\u001b[1;34m(self, *args, **kwds)\u001b[0m\n\u001b[0;32m    940\u001b[0m       \u001b[1;31m# In this case we have created variables on the first call, so we run the\u001b[0m\u001b[1;33m\u001b[0m\u001b[1;33m\u001b[0m\u001b[1;33m\u001b[0m\u001b[0m\n\u001b[0;32m    941\u001b[0m       \u001b[1;31m# defunned version which is guaranteed to never create variables.\u001b[0m\u001b[1;33m\u001b[0m\u001b[1;33m\u001b[0m\u001b[1;33m\u001b[0m\u001b[0m\n\u001b[1;32m--> 942\u001b[1;33m       \u001b[1;32mreturn\u001b[0m \u001b[0mself\u001b[0m\u001b[1;33m.\u001b[0m\u001b[0m_stateless_fn\u001b[0m\u001b[1;33m(\u001b[0m\u001b[1;33m*\u001b[0m\u001b[0margs\u001b[0m\u001b[1;33m,\u001b[0m \u001b[1;33m**\u001b[0m\u001b[0mkwds\u001b[0m\u001b[1;33m)\u001b[0m  \u001b[1;31m# pylint: disable=not-callable\u001b[0m\u001b[1;33m\u001b[0m\u001b[1;33m\u001b[0m\u001b[0m\n\u001b[0m\u001b[0;32m    943\u001b[0m     \u001b[1;32melif\u001b[0m \u001b[0mself\u001b[0m\u001b[1;33m.\u001b[0m\u001b[0m_stateful_fn\u001b[0m \u001b[1;32mis\u001b[0m \u001b[1;32mnot\u001b[0m \u001b[1;32mNone\u001b[0m\u001b[1;33m:\u001b[0m\u001b[1;33m\u001b[0m\u001b[1;33m\u001b[0m\u001b[0m\n\u001b[0;32m    944\u001b[0m       \u001b[1;31m# Release the lock early so that multiple threads can perform the call\u001b[0m\u001b[1;33m\u001b[0m\u001b[1;33m\u001b[0m\u001b[1;33m\u001b[0m\u001b[0m\n",
      "\u001b[1;32m~\\Anaconda3\\envs\\dl4aed\\lib\\site-packages\\tensorflow\\python\\eager\\function.py\u001b[0m in \u001b[0;36m__call__\u001b[1;34m(self, *args, **kwargs)\u001b[0m\n\u001b[0;32m   3128\u001b[0m       (graph_function,\n\u001b[0;32m   3129\u001b[0m        filtered_flat_args) = self._maybe_define_function(args, kwargs)\n\u001b[1;32m-> 3130\u001b[1;33m     return graph_function._call_flat(\n\u001b[0m\u001b[0;32m   3131\u001b[0m         filtered_flat_args, captured_inputs=graph_function.captured_inputs)  # pylint: disable=protected-access\n\u001b[0;32m   3132\u001b[0m \u001b[1;33m\u001b[0m\u001b[0m\n",
      "\u001b[1;32m~\\Anaconda3\\envs\\dl4aed\\lib\\site-packages\\tensorflow\\python\\eager\\function.py\u001b[0m in \u001b[0;36m_call_flat\u001b[1;34m(self, args, captured_inputs, cancellation_manager)\u001b[0m\n\u001b[0;32m   1957\u001b[0m         and executing_eagerly):\n\u001b[0;32m   1958\u001b[0m       \u001b[1;31m# No tape is watching; skip to running the function.\u001b[0m\u001b[1;33m\u001b[0m\u001b[1;33m\u001b[0m\u001b[1;33m\u001b[0m\u001b[0m\n\u001b[1;32m-> 1959\u001b[1;33m       return self._build_call_outputs(self._inference_function.call(\n\u001b[0m\u001b[0;32m   1960\u001b[0m           ctx, args, cancellation_manager=cancellation_manager))\n\u001b[0;32m   1961\u001b[0m     forward_backward = self._select_forward_and_backward_functions(\n",
      "\u001b[1;32m~\\Anaconda3\\envs\\dl4aed\\lib\\site-packages\\tensorflow\\python\\eager\\function.py\u001b[0m in \u001b[0;36mcall\u001b[1;34m(self, ctx, args, cancellation_manager)\u001b[0m\n\u001b[0;32m    596\u001b[0m       \u001b[1;32mwith\u001b[0m \u001b[0m_InterpolateFunctionError\u001b[0m\u001b[1;33m(\u001b[0m\u001b[0mself\u001b[0m\u001b[1;33m)\u001b[0m\u001b[1;33m:\u001b[0m\u001b[1;33m\u001b[0m\u001b[1;33m\u001b[0m\u001b[0m\n\u001b[0;32m    597\u001b[0m         \u001b[1;32mif\u001b[0m \u001b[0mcancellation_manager\u001b[0m \u001b[1;32mis\u001b[0m \u001b[1;32mNone\u001b[0m\u001b[1;33m:\u001b[0m\u001b[1;33m\u001b[0m\u001b[1;33m\u001b[0m\u001b[0m\n\u001b[1;32m--> 598\u001b[1;33m           outputs = execute.execute(\n\u001b[0m\u001b[0;32m    599\u001b[0m               \u001b[0mstr\u001b[0m\u001b[1;33m(\u001b[0m\u001b[0mself\u001b[0m\u001b[1;33m.\u001b[0m\u001b[0msignature\u001b[0m\u001b[1;33m.\u001b[0m\u001b[0mname\u001b[0m\u001b[1;33m)\u001b[0m\u001b[1;33m,\u001b[0m\u001b[1;33m\u001b[0m\u001b[1;33m\u001b[0m\u001b[0m\n\u001b[0;32m    600\u001b[0m               \u001b[0mnum_outputs\u001b[0m\u001b[1;33m=\u001b[0m\u001b[0mself\u001b[0m\u001b[1;33m.\u001b[0m\u001b[0m_num_outputs\u001b[0m\u001b[1;33m,\u001b[0m\u001b[1;33m\u001b[0m\u001b[1;33m\u001b[0m\u001b[0m\n",
      "\u001b[1;32m~\\Anaconda3\\envs\\dl4aed\\lib\\site-packages\\tensorflow\\python\\eager\\execute.py\u001b[0m in \u001b[0;36mquick_execute\u001b[1;34m(op_name, num_outputs, inputs, attrs, ctx, name)\u001b[0m\n\u001b[0;32m     56\u001b[0m   \u001b[1;32mtry\u001b[0m\u001b[1;33m:\u001b[0m\u001b[1;33m\u001b[0m\u001b[1;33m\u001b[0m\u001b[0m\n\u001b[0;32m     57\u001b[0m     \u001b[0mctx\u001b[0m\u001b[1;33m.\u001b[0m\u001b[0mensure_initialized\u001b[0m\u001b[1;33m(\u001b[0m\u001b[1;33m)\u001b[0m\u001b[1;33m\u001b[0m\u001b[1;33m\u001b[0m\u001b[0m\n\u001b[1;32m---> 58\u001b[1;33m     tensors = pywrap_tfe.TFE_Py_Execute(ctx._handle, device_name, op_name,\n\u001b[0m\u001b[0;32m     59\u001b[0m                                         inputs, attrs, num_outputs)\n\u001b[0;32m     60\u001b[0m   \u001b[1;32mexcept\u001b[0m \u001b[0mcore\u001b[0m\u001b[1;33m.\u001b[0m\u001b[0m_NotOkStatusException\u001b[0m \u001b[1;32mas\u001b[0m \u001b[0me\u001b[0m\u001b[1;33m:\u001b[0m\u001b[1;33m\u001b[0m\u001b[1;33m\u001b[0m\u001b[0m\n",
      "\u001b[1;31mKeyboardInterrupt\u001b[0m: "
     ]
    }
   ],
   "source": [
    "# get data input shape\n",
    "input_shape = train_dataset.element_spec[0].shape[1:]\n",
    "\n",
    "# get autoencoder \n",
    "filters = [16, 32, 64, 128, 256, 512] \n",
    "ae_conv_tus8k, enc_conv_tus8k, _ = get_autoencoder_conv(input_shape, dense_layers)\n",
    "\n",
    "\n",
    "# compile the model with adam optimizer and mean squeared error as its loss function\n",
    "ae_conv_tus8k.compile(optimizer=tf.keras.optimizers.Nadam(learning_rate=0.001, clipnorm=1), \n",
    "                     loss='mse', metrics=['mse'])\n",
    "\n",
    "reduce_lro_cb = tf.keras.callbacks.ReduceLROnPlateau(monitor='loss', \n",
    "                                                     factor=0.5, patience=5, verbose=1, \n",
    "                                                     mode='min', min_delta=0.0001, \n",
    "                                                     cooldown=0, min_lr=0)\n",
    "# train the model\n",
    "ae_conv_tus8k.fit(train_dataset,\n",
    "                 epochs=2, \n",
    "                 validation_data=eval_dataset,\n",
    "                 callbacks=[reduce_lro_cb])"
   ]
  },
  {
   "cell_type": "markdown",
   "metadata": {
    "cell_id": "00053-15048234-fe40-4c1c-b989-3d40b81396ee",
    "deepnote_cell_type": "markdown",
    "id": "CnKh3npzAnGL"
   },
   "source": [
    "### Visualizing the TUS8k reconstructions"
   ]
  },
  {
   "cell_type": "code",
   "execution_count": null,
   "metadata": {
    "cell_id": "00054-2243e632-3fd8-441d-a3d6-a82ed0432d64",
    "colab": {
     "base_uri": "https://localhost:8080/",
     "height": 482
    },
    "deepnote_cell_type": "code",
    "executionInfo": {
     "elapsed": 997,
     "status": "ok",
     "timestamp": 1608655965349,
     "user": {
      "displayName": "Fabian Seipel",
      "photoUrl": "https://lh3.googleusercontent.com/a-/AOh14Gh8YVHF3qhtE29H3VXcs8F3wQ7yT5xvIZgIn8YBWw=s64",
      "userId": "13634335260986624818"
     },
     "user_tz": -60
    },
    "id": "326By61sAnGL",
    "outputId": "295ca715-cbaf-4475-c31b-3ed581064b56"
   },
   "outputs": [],
   "source": [
    "# call visualize reconstructions function\n",
    "visualize_reconstructions(test_dataset, ae_conv_tus8k, classes_tus8k)"
   ]
  },
  {
   "cell_type": "markdown",
   "metadata": {
    "cell_id": "00055-e27fa6a0-5ecf-4678-b665-bc7e7b42458f",
    "deepnote_cell_type": "markdown",
    "id": "i_hSff1MAnGL"
   },
   "source": [
    "### Visualizing the TUS8k latent dimension"
   ]
  },
  {
   "cell_type": "code",
   "execution_count": null,
   "metadata": {
    "cell_id": "00056-9106ec5c-2bd5-424b-b303-22af8b9751d8",
    "colab": {
     "base_uri": "https://localhost:8080/",
     "height": 376
    },
    "deepnote_cell_type": "code",
    "executionInfo": {
     "elapsed": 11830,
     "status": "ok",
     "timestamp": 1608656029914,
     "user": {
      "displayName": "Fabian Seipel",
      "photoUrl": "https://lh3.googleusercontent.com/a-/AOh14Gh8YVHF3qhtE29H3VXcs8F3wQ7yT5xvIZgIn8YBWw=s64",
      "userId": "13634335260986624818"
     },
     "user_tz": -60
    },
    "id": "WctkdNaXAnGL",
    "outputId": "00b7d7fd-36bc-465a-e1e8-613bb53a01cd"
   },
   "outputs": [],
   "source": [
    "visualize_encodings(test_dataset, ae_conv_tus8k, classes_tus8k)"
   ]
  },
  {
   "cell_type": "markdown",
   "metadata": {
    "cell_id": "00057-502ec800-39d1-468b-a658-3465d9ac68ed",
    "deepnote_cell_type": "markdown",
    "id": "Hc1qOdHY1Isj"
   },
   "source": [
    "---"
   ]
  },
  {
   "cell_type": "markdown",
   "metadata": {
    "cell_id": "00058-0dbe72d6-7078-4b63-8db8-fbf1d164ca8b",
    "deepnote_cell_type": "markdown",
    "id": "I8UF_VZK1Isj"
   },
   "source": [
    "## 2.3. Recurrent Autoencoders\n",
    "\n",
    "If you want to build an autoencoder for sequences, such as time series or text (e.g., for unsupervised learning or dimensionality reduction), then **recurrent neural networks** may be better suited than dense networks. Building a recurrent autoencoder is straightforward: the **encoder** is typically a **sequence-to-vector RNN** which compresses the input sequence down to a single vector. The **decoder** is a **vector-to-sequence RNN** that does the reverse. \n",
    "\n",
    "This recurrent autoencoder can **process sequences of any length, with 64 dimensions per time step**. Conveniently, this means it can process spectrogram images by **treating each image as a sequence of rows**: at each time step, the RNN will process a single row of 64 pixels. Obviously, you could use a recurrent autoencoder for any kind of sequence. Note that we use a **RepeatVector** layer as the first layer of the decoder, to ensure that its input vector gets fed to the decoder at each time step. As opposed to the previous apporaches, this autoencoder was built with the **sequential API**, which sometimes is less complex to implement: "
   ]
  },
  {
   "cell_type": "code",
   "execution_count": null,
   "metadata": {
    "cell_id": "00059-7b053708-1abc-4927-9f0e-e226e72173c4",
    "deepnote_cell_type": "code",
    "executionInfo": {
     "elapsed": 634,
     "status": "ok",
     "timestamp": 1608717654113,
     "user": {
      "displayName": "Fabian Seipel",
      "photoUrl": "https://lh3.googleusercontent.com/a-/AOh14Gh8YVHF3qhtE29H3VXcs8F3wQ7yT5xvIZgIn8YBWw=s64",
      "userId": "13634335260986624818"
     },
     "user_tz": -60
    },
    "id": "6Lvws2CI1Isk"
   },
   "outputs": [],
   "source": [
    "def get_autoencoder_lstm(input_shape, lstm_layers, codings_size):\n",
    "\n",
    "    # ENCODER --------------------------------------------------\n",
    "    inputs = tf.keras.layers.Input(shape=input_shape)\n",
    "    x = tf.keras.layers.Lambda(lambda x: tf.squeeze(x, axis=3))(inputs)\n",
    "    \n",
    "    for l in lstm_layers:\n",
    "        x = tf.keras.layers.LSTM(l, return_sequences=True)(x)\n",
    "        \n",
    "    codings = tf.keras.layers.LSTM(codings_size)(x)\n",
    "    encoder_lstm = tf.keras.Model(inputs=[inputs], outputs=[codings])\n",
    "\n",
    "    # DECODER --------------------------------------------------\n",
    "    decoder_inputs = tf.keras.layers.Input(shape=[codings_size])\n",
    "    x = tf.keras.layers.RepeatVector(input_shape[0])(decoder_inputs)\n",
    "\n",
    "    for l in lstm_layers[::-1]:\n",
    "        x = tf.keras.layers.LSTM(l, return_sequences=True)(x)\n",
    "\n",
    "    dense_layer = tf.keras.layers.Dense(input_shape[1], activation='linear')\n",
    "    x = tf.keras.layers.TimeDistributed(dense_layer)(x)\n",
    "\n",
    "    outputs = tf.keras.layers.Lambda(lambda x: tf.expand_dims(x, axis=3))(x)\n",
    "    decoder_lstm = tf.keras.Model(inputs=[decoder_inputs], outputs=[outputs])\n",
    "\n",
    "    # AUTOCODER ------------------------------------------------\n",
    "    codings = encoder_lstm(inputs)\n",
    "    reconstructions = decoder_lstm(codings)\n",
    "    autoencoder_lstm = tf.keras.Model(inputs=[inputs], outputs=[reconstructions])\n",
    "\n",
    "    encoder_lstm.summary()\n",
    "    decoder_lstm.summary()\n",
    "    autoencoder_lstm.summary()\n",
    "    \n",
    "    return autoencoder_lstm, encoder_lstm, decoder_lstm"
   ]
  },
  {
   "cell_type": "markdown",
   "metadata": {
    "cell_id": "00068-7cb30a1b-19e6-4d7d-b470-6b5079c37f90",
    "deepnote_cell_type": "markdown",
    "id": "Lv1gcIbEAnGN"
   },
   "source": [
    "### Train LSTM Autoencoder on TinyUrbanSound8k data"
   ]
  },
  {
   "cell_type": "code",
   "execution_count": null,
   "metadata": {
    "cell_id": "00069-2750d770-4f2e-4f5c-b9cc-b8165206714e",
    "colab": {
     "base_uri": "https://localhost:8080/"
    },
    "deepnote_cell_type": "code",
    "executionInfo": {
     "elapsed": 149684,
     "status": "ok",
     "timestamp": 1608717818330,
     "user": {
      "displayName": "Fabian Seipel",
      "photoUrl": "https://lh3.googleusercontent.com/a-/AOh14Gh8YVHF3qhtE29H3VXcs8F3wQ7yT5xvIZgIn8YBWw=s64",
      "userId": "13634335260986624818"
     },
     "user_tz": -60
    },
    "id": "dy3xUWDHAnGN",
    "outputId": "937ba61b-3e9b-4ec1-b558-788e0307baab"
   },
   "outputs": [
    {
     "ename": "NameError",
     "evalue": "name 'train_dataset' is not defined",
     "output_type": "error",
     "traceback": [
      "\u001b[1;31m---------------------------------------------------------------------------\u001b[0m",
      "\u001b[1;31mNameError\u001b[0m                                 Traceback (most recent call last)",
      "\u001b[1;32mC:\\Users\\SEBAST~1.BER\\AppData\\Local\\Temp/ipykernel_12052/4229512251.py\u001b[0m in \u001b[0;36m<module>\u001b[1;34m\u001b[0m\n\u001b[0;32m      1\u001b[0m \u001b[1;31m# get lstm autoencoder\u001b[0m\u001b[1;33m\u001b[0m\u001b[1;33m\u001b[0m\u001b[1;33m\u001b[0m\u001b[0m\n\u001b[1;32m----> 2\u001b[1;33m \u001b[0minput_shape\u001b[0m \u001b[1;33m=\u001b[0m \u001b[0mtrain_dataset\u001b[0m\u001b[1;33m.\u001b[0m\u001b[0melement_spec\u001b[0m\u001b[1;33m[\u001b[0m\u001b[1;36m0\u001b[0m\u001b[1;33m]\u001b[0m\u001b[1;33m.\u001b[0m\u001b[0mshape\u001b[0m\u001b[1;33m[\u001b[0m\u001b[1;36m1\u001b[0m\u001b[1;33m:\u001b[0m\u001b[1;33m]\u001b[0m\u001b[1;33m\u001b[0m\u001b[1;33m\u001b[0m\u001b[0m\n\u001b[0m\u001b[0;32m      3\u001b[0m \u001b[0mlstm_layers\u001b[0m \u001b[1;33m=\u001b[0m \u001b[1;33m[\u001b[0m\u001b[1;36m512\u001b[0m\u001b[1;33m]\u001b[0m\u001b[1;33m\u001b[0m\u001b[1;33m\u001b[0m\u001b[0m\n\u001b[0;32m      4\u001b[0m \u001b[0mcodings_size\u001b[0m \u001b[1;33m=\u001b[0m \u001b[1;36m256\u001b[0m\u001b[1;33m\u001b[0m\u001b[1;33m\u001b[0m\u001b[0m\n\u001b[0;32m      5\u001b[0m \u001b[0mae_lstm_tus8k\u001b[0m\u001b[1;33m,\u001b[0m \u001b[0menc_lstm_tus8k\u001b[0m\u001b[1;33m,\u001b[0m \u001b[0m_\u001b[0m \u001b[1;33m=\u001b[0m \u001b[0mget_autoencoder_lstm\u001b[0m\u001b[1;33m(\u001b[0m\u001b[0minput_shape\u001b[0m\u001b[1;33m,\u001b[0m \u001b[0mlstm_layers\u001b[0m\u001b[1;33m,\u001b[0m \u001b[0mcodings_size\u001b[0m\u001b[1;33m)\u001b[0m\u001b[1;33m\u001b[0m\u001b[1;33m\u001b[0m\u001b[0m\n",
      "\u001b[1;31mNameError\u001b[0m: name 'train_dataset' is not defined"
     ]
    }
   ],
   "source": [
    "# get lstm autoencoder\n",
    "input_shape = train_dataset.element_spec[0].shape[1:]\n",
    "lstm_layers = [512]\n",
    "codings_size = 256\n",
    "ae_lstm_tus8k, enc_lstm_tus8k, _ = get_autoencoder_lstm(input_shape, lstm_layers, codings_size)\n",
    "\n",
    "# compile the model with adam optimizer and mean squeared error as its loss function\n",
    "ae_lstm_tus8k.compile(optimizer=tf.keras.optimizers.Nadam(learning_rate=0.001, clipnorm=5), \n",
    "                      loss='mse',\n",
    "                      metrics=['mse'])\n",
    "\n",
    "reduce_lro_cb = tf.keras.callbacks.ReduceLROnPlateau(monitor='loss', \n",
    "                                                     factor=0.5, patience=5, verbose=1, \n",
    "                                                     mode='min', min_delta=0.0001, \n",
    "                                                     cooldown=0, min_lr=0)\n",
    "# train the model\n",
    "ae_lstm_tus8k.fit(train_dataset,\n",
    "                  epochs=1,\n",
    "                  # validation_data=eval_dataset,\n",
    "                  callbacks=[reduce_lro_cb]\n",
    "                  )"
   ]
  },
  {
   "cell_type": "markdown",
   "metadata": {
    "cell_id": "00070-c995058a-2345-4b04-a924-1634214feb64",
    "deepnote_cell_type": "markdown",
    "id": "5C07qjLWAnGN"
   },
   "source": [
    "### Visualizing the TinyUrbanSound8k reconstructions"
   ]
  },
  {
   "cell_type": "code",
   "execution_count": null,
   "metadata": {
    "cell_id": "00071-fc19674b-df60-4b6b-9787-a05c4fd2a37e",
    "colab": {
     "base_uri": "https://localhost:8080/",
     "height": 482
    },
    "deepnote_cell_type": "code",
    "executionInfo": {
     "elapsed": 979,
     "status": "ok",
     "timestamp": 1608719292064,
     "user": {
      "displayName": "Fabian Seipel",
      "photoUrl": "https://lh3.googleusercontent.com/a-/AOh14Gh8YVHF3qhtE29H3VXcs8F3wQ7yT5xvIZgIn8YBWw=s64",
      "userId": "13634335260986624818"
     },
     "user_tz": -60
    },
    "id": "tnujzDN6AnGN",
    "outputId": "7248454a-35a1-4031-b28c-75a5497323bb"
   },
   "outputs": [],
   "source": [
    "visualize_reconstructions(test_dataset, ae_lstm_tus8k, classes_tus8k)"
   ]
  },
  {
   "cell_type": "markdown",
   "metadata": {
    "cell_id": "00072-9597abf0-aeef-45c2-8805-f3f290285c28",
    "deepnote_cell_type": "markdown",
    "id": "a7acUB_hAnGN"
   },
   "source": [
    "### Visualizing the TinyUrbanSound8k latent dimension"
   ]
  },
  {
   "cell_type": "code",
   "execution_count": null,
   "metadata": {
    "cell_id": "00073-40c48ea5-4537-4d1d-8464-b0166e26093c",
    "colab": {
     "base_uri": "https://localhost:8080/",
     "height": 414
    },
    "deepnote_cell_type": "code",
    "executionInfo": {
     "elapsed": 9024,
     "status": "ok",
     "timestamp": 1608717893758,
     "user": {
      "displayName": "Fabian Seipel",
      "photoUrl": "https://lh3.googleusercontent.com/a-/AOh14Gh8YVHF3qhtE29H3VXcs8F3wQ7yT5xvIZgIn8YBWw=s64",
      "userId": "13634335260986624818"
     },
     "user_tz": -60
    },
    "id": "NuE1N2POAnGO",
    "outputId": "ca32264d-4b31-4235-b291-8ee9b2639c8b"
   },
   "outputs": [],
   "source": [
    "visualize_encodings(test_dataset, enc_lstm_tus8k, classes_tus8k)"
   ]
  },
  {
   "cell_type": "markdown",
   "metadata": {
    "cell_id": "00074-17921024-65db-4cc2-a7bf-4e4661182cf0",
    "deepnote_cell_type": "markdown",
    "id": "MBECavI71Isl"
   },
   "source": [
    "---"
   ]
  },
  {
   "cell_type": "markdown",
   "metadata": {
    "cell_id": "00075-183e5169-3a9c-4bf3-a6d7-c645bae7bcdb",
    "deepnote_cell_type": "markdown",
    "id": "ghLZSjAy1Isl"
   },
   "source": [
    "## 2.4. Denoising Autoencoders"
   ]
  },
  {
   "cell_type": "markdown",
   "metadata": {
    "cell_id": "00076-d8c285c2-d748-42ff-bf3f-8a4ce0b0b0e5",
    "deepnote_cell_type": "markdown",
    "id": "k2FRSStc1Isl"
   },
   "source": [
    "Another way to force the autoencoder to learn useful features is to **add noise to its inputs, training it to recover the noise-free inputs**. The noise can be pure **Gaussian noise** added to the inputs, or can be randomly switched-off inputs, just like in **Dropout**. With audio data this noise can also be introduced in the original waveform to simulate analog/digital noise artifacts during training. Denoising applications are manifold in the **audio domain** especially for music and speech data.\n",
    "\n",
    "The implementation is straightforward: it is a regular stacked autoencoder (dense, cnn or rnn) with an additional Dropout or Gaussian Noise layer applied to the encoders inputs. Recall that the Dropout/Gaussian Noise Layer is only active during training:"
   ]
  },
  {
   "cell_type": "code",
   "execution_count": null,
   "metadata": {
    "cell_id": "00077-47d19f16-be33-4917-8d4b-4398e744a2c4",
    "deepnote_cell_type": "code",
    "executionInfo": {
     "elapsed": 645,
     "status": "ok",
     "timestamp": 1608717928048,
     "user": {
      "displayName": "Fabian Seipel",
      "photoUrl": "https://lh3.googleusercontent.com/a-/AOh14Gh8YVHF3qhtE29H3VXcs8F3wQ7yT5xvIZgIn8YBWw=s64",
      "userId": "13634335260986624818"
     },
     "user_tz": -60
    },
    "id": "i2iarZAs1Isl"
   },
   "outputs": [],
   "source": [
    "def get_denoising_autoencoder(input_shape, filters, noise=False, dropout=False):\n",
    "\n",
    "    # ENCODER --------------------------------------------------\n",
    "    # encoder input\n",
    "    encoder_input = tf.keras.layers.Input(shape=input_shape)\n",
    "    x = tf.keras.layers.Lambda(lambda x: x)(encoder_input)\n",
    "\n",
    "    # -------------------------------------------------- \n",
    "    # NEW: Add Noise or Dropout adfter input\n",
    "    if noise:\n",
    "        x = tf.keras.layers.GaussianNoise(0.2)(x)\n",
    "    if dropout:\n",
    "        x = tf.keras.layers.Dropout(0.5)(x)\n",
    "    # -------------------------------------------------- \n",
    "\n",
    "    # iterate filters\n",
    "    for f  in filters:\n",
    "        x = tf.keras.layers.Convolution2D(filters=f, kernel_size=(3, 3), activation='elu', padding='same', kernel_initializer='he_normal')(x)\n",
    "        x = tf.keras.layers.AveragePooling2D(pool_size=(2, 2))(x)\n",
    "        x = tf.keras.layers.BatchNormalization()(x)\n",
    "\n",
    "    # spectrogram encoded \n",
    "    latent_dimension = tf.keras.layers.Lambda(lambda x: x, name='latent_dimension')(x)\n",
    "    encoder_denoise = tf.keras.Model(encoder_input, latent_dimension, name='encoder_denoise')\n",
    "\n",
    "    # DECODER --------------------------------------------------\n",
    "    # decoder input\n",
    "    decoder_input = tf.keras.layers.Input(shape=latent_dimension.shape[1:])\n",
    "    x = tf.keras.layers.Lambda(lambda x: x)(decoder_input)\n",
    "\n",
    "    for f  in filters[::-1]:\n",
    "        x = tf.keras.layers.Convolution2DTranspose(filters=f, kernel_size=(3, 3), activation='elu', padding='same', kernel_initializer='he_normal')(x)\n",
    "        x = tf.keras.layers.UpSampling2D(size=(2, 2))(x)\n",
    "        x = tf.keras.layers.BatchNormalization()(x)\n",
    "\n",
    "    # audio decoded\n",
    "    x = tf.keras.layers.Convolution2DTranspose(filters=1, kernel_size=(1, 1), activation='linear', padding='same', name='decoder')(x)\n",
    "\n",
    "    # setup decoder model\n",
    "    decoded_dimension = tf.keras.layers.Lambda(lambda x: x)(x)\n",
    "    decoder_denoise = tf.keras.Model(decoder_input, decoded_dimension, name='decoder')\n",
    "\n",
    "    # AUTOENCODER --------------------------------------------------\n",
    "\n",
    "    # put encoder and decoder together\n",
    "    encodings = encoder_denoise(encoder_input)\n",
    "    decodings = decoder_denoise(encodings)\n",
    "    autoencoder_denoise = tf.keras.Model(encoder_input, decodings, name='autoencoder_denoise')\n",
    "    \n",
    "    encoder_denoise.summary()\n",
    "    decoder_denoise.summary()\n",
    "    autoencoder_denoise.summary()\n",
    "\n",
    "    return autoencoder_denoise"
   ]
  },
  {
   "cell_type": "code",
   "execution_count": null,
   "metadata": {
    "cell_id": "00078-61702a9c-3958-4a23-95eb-405a82c0b04c",
    "colab": {
     "base_uri": "https://localhost:8080/"
    },
    "deepnote_cell_type": "code",
    "executionInfo": {
     "elapsed": 134196,
     "status": "ok",
     "timestamp": 1608718063806,
     "user": {
      "displayName": "Fabian Seipel",
      "photoUrl": "https://lh3.googleusercontent.com/a-/AOh14Gh8YVHF3qhtE29H3VXcs8F3wQ7yT5xvIZgIn8YBWw=s64",
      "userId": "13634335260986624818"
     },
     "user_tz": -60
    },
    "id": "jcTQ-m9c1Ism",
    "outputId": "bd79e1c7-2ada-4ad6-cb8f-9e9113319abf"
   },
   "outputs": [],
   "source": [
    "# get denoising autoencoder\n",
    "input_shape = train_dataset_mnist.element_spec[0].shape[1:]\n",
    "filters = [8, 16]\n",
    "ae_denoise_mnist = get_denoising_autoencoder(input_shape, filters, noise=True, dropout=True)\n",
    "\n",
    "ae_denoise_mnist.compile(loss='mse',\n",
    "                         optimizer=tf.keras.optimizers.Nadam(learning_rate=0.001, clipnorm=1),\n",
    "                         metrics=['mse'])\n",
    "\n",
    "ae_denoise_mnist.fit(train_dataset_mnist,\n",
    "                     epochs=20,\n",
    "                     validation_data=eval_dataset_mnist)"
   ]
  },
  {
   "cell_type": "markdown",
   "metadata": {
    "cell_id": "00079-28e21272-bcea-47bd-9e0d-abff2871c939",
    "deepnote_cell_type": "markdown",
    "id": "UjSkKL-21Ism"
   },
   "source": [
    "### Visualizing the reconstructions\n",
    "\n",
    "In order to visualize denoised images, we need add Gaussian Noise to the test samples: "
   ]
  },
  {
   "cell_type": "code",
   "execution_count": null,
   "metadata": {
    "cell_id": "00080-aab00024-f566-4f5a-b517-aaf7b554d53a",
    "colab": {
     "base_uri": "https://localhost:8080/",
     "height": 482
    },
    "deepnote_cell_type": "code",
    "executionInfo": {
     "elapsed": 2652,
     "status": "ok",
     "timestamp": 1608719922981,
     "user": {
      "displayName": "Fabian Seipel",
      "photoUrl": "https://lh3.googleusercontent.com/a-/AOh14Gh8YVHF3qhtE29H3VXcs8F3wQ7yT5xvIZgIn8YBWw=s64",
      "userId": "13634335260986624818"
     },
     "user_tz": -60
    },
    "id": "QKiorXZK1Ism",
    "outputId": "4a4f504e-005b-4241-c876-7bfa76a19c8f"
   },
   "outputs": [],
   "source": [
    "# extract the images from the test set\n",
    "X_test_mnist = np.array([el[0] for el in test_dataset_mnist.as_numpy_iterator()])\n",
    "np.random.shuffle(X_test_mnist)\n",
    "\n",
    "# add noise and dropout layer to test samples\n",
    "noise = tf.keras.layers.GaussianNoise(0.2)\n",
    "dropout = tf.keras.layers.Dropout(0.5)\n",
    "X_test_noisy = dropout(noise(X_test_mnist, training=True), training=True)\n",
    "\n",
    "# plot reconstructions\n",
    "visualize_reconstructions(X_test_noisy, ae_denoise_mnist, classes_mnist)"
   ]
  },
  {
   "cell_type": "markdown",
   "metadata": {
    "cell_id": "00093-658b4b6e-b475-4880-9e19-b3f4a56c013c",
    "deepnote_cell_type": "markdown",
    "id": "qW-6DBv3AnGR"
   },
   "source": [
    "## 2.6. Summary Autoencoders\n",
    "\n",
    "\n",
    "Autoencoders are unsupervised learning methods that contain dense, convolutional or lstm layers, arranged in a mirrored structure. They encode high-dimensionaly input features into encoding in a latent dimension. Autoencoders are most often used for:\n",
    "\n",
    "- **Feature extraction** for high-dimensional data, e.g. audio/images (for subsequent classifiers)\n",
    "- **Clustering the encodings** in the latent dimension\n",
    "- **Anomaly Detection**: Detect abnormal classes by the reconstruction MSE \n",
    "- **Generate new samples** by sampling the latent dimension with Variational Autoencoders\n"
   ]
  },
  {
   "cell_type": "markdown",
   "metadata": {
    "cell_id": "00094-f99b607f-42c1-47b6-b6a7-8662289c5418",
    "deepnote_cell_type": "markdown",
    "id": "ykYvrtUvAnGS"
   },
   "source": [
    "---"
   ]
  },
  {
   "cell_type": "markdown",
   "metadata": {
    "cell_id": "00095-2f54ceec-9950-4740-821c-e14057786cc6",
    "deepnote_cell_type": "markdown",
    "id": "8Wrp1h7lAnGS"
   },
   "source": [
    "## 2.7. Autoencoders for Audio Applications\n",
    "\n",
    "\n",
    "- Autoencoding Neural Networks as Musical Audio Synthesizers (https://arxiv.org/abs/2004.13172)\n",
    "- Autoencoders for music sound modeling (http://www.gipsa-lab.fr/~laurent.girin/papers/Roche_et_al_SMC_2019.pdf)\n",
    "- NSynth (WaveNet-style autoencoder model): https://magenta.tensorflow.org/nsynth\n",
    "- DDSP: Differentiable Digital Signal Processing: https://magenta.tensorflow.org/ddsp\n",
    "- MusicVAE: https://magenta.tensorflow.org/music-vae\n",
    "- A Wavenet for Speech Denoising: http://jordipons.me/apps/speech-denoising-wavenet/\n",
    "- Neural Composer: https://www.youtube.com/watch?v=UWxfnNXlVy8 | https://github.com/HackerPoet/Composer\n",
    "- Autoencoder for sound anomaly detection, e.g. http://dcase.community/documents/workshop2020/proceedings/DCASE2020Workshop_Giri_66.pdf \n",
    "- auDeep Python toolkit for unsupervised feature learning: https://github.com/auDeep/auDeep"
   ]
  },
  {
   "cell_type": "markdown",
   "metadata": {
    "cell_id": "00096-5d88e051-e6c6-4c9b-9efe-4523564e226c",
    "deepnote_cell_type": "markdown",
    "id": "9Bp9YAR91Isp"
   },
   "source": [
    "---"
   ]
  },
  {
   "cell_type": "markdown",
   "metadata": {
    "cell_id": "00128-d888bf92-ac69-46ce-a06f-53a5b5784c2d",
    "deepnote_cell_type": "markdown",
    "id": "wKjaNmA61Iss"
   },
   "source": [
    "### Further reading and resources:\n",
    "\n",
    "#### Autoencoder\n",
    "https://www.tensorflow.org/tutorials/generative/autoencoder#first_example_basic_autoencoder \\\n",
    "https://www.tensorflow.org/tutorials/generative/cvae \\\n",
    "https://www.youtube.com/watch?v=Rdpbnd0pCiI \\\n",
    "https://www.youtube.com/watch?v=9zKuYvjFFS8&t=3s \\\n",
    "Kingma, D.P. and Welling, M., 2013. Auto-encoding variational bayes. arXiv preprint arXiv:1312.6114.\n",
    "\n",
    "\n",
    "#### GANs:  \n",
    "https://www.tensorflow.org/tutorials/generative/dcgan \\\n",
    "https://www.coursera.org/specializations/generative-adversarial-networks-gans \\\n",
    "Goodfellow, I., Pouget-Abadie, J., Mirza, M., Xu, B., Warde-Farley, D., Ozair, S., Courville, A. and Bengio, Y., 2014. Generative adversarial nets. In Advances in neural information processing systems (pp. 2672-2680). \\\n",
    "Goodfellow, I., Bengio, Y., Courville, A. and Bengio, Y., 2016. Deep learning (Vol. 1, No. 2). Cambridge: MIT press.\n",
    "\n",
    "#### For both topics:\n",
    "Chapter 17 in the Hands-On ML book:  \n",
    "Géron, Aurélien. Hands-On Machine Learning with Scikit-Learn, Keras, and TensorFlow:Concepts, Tools, and Techniques to Build Intelligent Systems. O’Reilly Media, 2019.  \n",
    "https://github.com/ageron/handson-ml2 (Corresponding repo to the book)"
   ]
  },
  {
   "cell_type": "markdown",
   "metadata": {
    "cell_id": "00129-862d1f95-9dbe-4077-8e90-0ec78bd62364",
    "deepnote_cell_type": "markdown",
    "id": "KDoJ6LnN1Is0"
   },
   "source": [
    "---"
   ]
  },
  {
   "cell_type": "markdown",
   "metadata": {
    "created_in_deepnote_cell": true,
    "deepnote_cell_type": "markdown",
    "tags": []
   },
   "source": [
    "<a style='text-decoration:none;line-height:16px;display:flex;color:#5B5B62;padding:10px;justify-content:end;' href='https://deepnote.com?utm_source=created-in-deepnote-cell&projectId=c7aa9a1b-e7b2-431b-b8b2-9c4c2699a2ef' target=\"_blank\">\n",
    "<img alt='Created in deepnote.com' style='display:inline;max-height:16px;margin:0px;margin-right:7.5px;' src='data:image/svg+xml;base64,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' > </img>\n",
    "Created in <span style='font-weight:600;margin-left:4px;'>Deepnote</span></a>"
   ]
  }
 ],
 "metadata": {
  "accelerator": "GPU",
  "colab": {
   "collapsed_sections": [],
   "name": "07-autoencoder-gans.ipynb",
   "provenance": []
  },
  "deepnote": {},
  "deepnote_execution_queue": [],
  "deepnote_notebook_id": "b7d9adfb-62d6-46d8-93e6-bc74092cf3d9",
  "interpreter": {
   "hash": "87c1154cc9ff739533c11a00da6e7b75e78b43d6c492128506b1a6449f7bef41"
  },
  "kernelspec": {
   "display_name": "dl4aed",
   "language": "python",
   "name": "python3"
  },
  "language_info": {
   "codemirror_mode": {
    "name": "ipython",
    "version": 3
   },
   "file_extension": ".py",
   "mimetype": "text/x-python",
   "name": "python",
   "nbconvert_exporter": "python",
   "pygments_lexer": "ipython3",
   "version": "3.8.12"
  }
 },
 "nbformat": 4,
 "nbformat_minor": 4
}
