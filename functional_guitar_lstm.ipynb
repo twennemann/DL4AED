{
 "cells": [
  {
   "cell_type": "code",
   "execution_count": 1,
   "metadata": {},
   "outputs": [],
   "source": [
    "import numpy as np\n",
    "# force user to type meaningful name in commandline\n",
    "name = input('Name of the model:')\n",
    "epochs = int(input('Number of epochs:'))\n",
    "batch_size = int(input('Batch Size:'))"
   ]
  },
  {
   "cell_type": "code",
   "execution_count": 2,
   "metadata": {},
   "outputs": [],
   "source": [
    "#!pip install tensorflow\n",
    "#!pip install pedalboard\n",
    "#import soundfile as sf\n",
    "import tensorflow as tf\n",
    "#from tensorflow.keras import Sequential\n",
    "from tensorflow.keras.layers import LSTM, Conv1D, Dense\n",
    "from tensorflow.keras.optimizers import Adam\n",
    "from tensorflow.keras.backend import clear_session\n",
    "#from tensorflow.keras.activations import tanh, elu, relu\n",
    "#from tensorflow.keras.models import load_model\n",
    "import tensorflow.keras.backend as K\n",
    "from tensorflow.keras.utils import Sequence\n",
    "from sklearn.model_selection import train_test_split\n",
    "from scipy.io import wavfile\n",
    "import os\n",
    "import matplotlib.pyplot as plt\n",
    "#import math\n",
    "import h5py\n",
    "import librosa"
   ]
  },
  {
   "cell_type": "code",
   "execution_count": 3,
   "metadata": {},
   "outputs": [],
   "source": [
    "# EDIT THIS SECTION FOR USER INPUTS\n",
    "\n",
    "path = 'models/'+name+'_functional/'\n",
    "audiosource = 'Trial_Data/GuitSigClean_Monophon'\n",
    "\n",
    "#name = 'Chorus_Test'\n",
    "if not os.path.exists(path):\n",
    "    os.makedirs(path)\n",
    "else:\n",
    "    print(\"A model with the same name already exists. Please choose a new name.\")\n",
    "    exit\n",
    "\n",
    "#epochs = 20\n",
    "fs = 44100\n",
    "#batch_size = 4 \n",
    "test_size = 0.2\n",
    "input_size = 100\n",
    "\n",
    "train_mode = 0     # 0 = speed training, \n",
    "                   # 1 = accuracy training \n",
    "                   # 2 = extended training\n",
    "if train_mode == 0:         # Speed Training\n",
    "    learning_rate = 0.01 \n",
    "    conv1d_strides = 12    \n",
    "    conv1d_filters = 16\n",
    "    hidden_units = 36\n",
    "elif train_mode == 1:       # Accuracy Training (~10x longer than Speed Training)\n",
    "    learning_rate = 0.01 \n",
    "    conv1d_strides = 4\n",
    "    conv1d_filters = 36\n",
    "    hidden_units= 64\n",
    "else:                       # Extended Training (~60x longer than Accuracy Training)\n",
    "    learning_rate = 0.0005 \n",
    "    conv1d_strides = 3\n",
    "    conv1d_filters = 36\n",
    "    hidden_units= 96"
   ]
  },
  {
   "cell_type": "code",
   "execution_count": 4,
   "metadata": {},
   "outputs": [],
   "source": [
    "class WindowArray(Sequence):\n",
    "        \n",
    "    def __init__(self, x, y, window_len, batch_size=32):\n",
    "        self.x = x\n",
    "        self.y = y[window_len-1:] \n",
    "        self.window_len = window_len\n",
    "        self.batch_size = batch_size\n",
    "        \n",
    "    def __len__(self):\n",
    "        l = len(self.x)\n",
    "        return (len(self.x) - self.window_len +1) // self.batch_size\n",
    "    \n",
    "    def __getitem__(self, index):\n",
    "        x_out = np.stack([self.x[idx: idx+self.window_len] for idx in range(index*self.batch_size, (index+1)*self.batch_size)])\n",
    "        y_out = self.y[index*self.batch_size:(index+1)*self.batch_size]\n",
    "        return x_out, y_out\n",
    "\n",
    "def pre_emphasis_filter(x, coeff=0.95):\n",
    "    return tf.concat([x, x - coeff * x], 1)\n",
    "    \n",
    "def error_to_signal(y_true, y_pred): \n",
    "    \"\"\"\n",
    "    Error to signal ratio with pre-emphasis filter:\n",
    "    \"\"\"\n",
    "    y_true, y_pred = pre_emphasis_filter(y_true), pre_emphasis_filter(y_pred)\n",
    "    return K.sum(tf.pow(y_true - y_pred, 2), axis=0) / (K.sum(tf.pow(y_true, 2), axis=0) + 1e-10)\n",
    "    \n",
    "def save_wav(name, data):\n",
    "    wavfile.write(name, fs, data.flatten().astype(np.float32))"
   ]
  },
  {
   "cell_type": "code",
   "execution_count": 5,
   "metadata": {},
   "outputs": [],
   "source": [
    "# reading processed audio and append to dry and wet array\n",
    "from pathlib import Path\n",
    "fx_name = 'Chorus'\n",
    "directory_dry = 'Trial_Data//GuitSigClean_1'\n",
    "directory_wet = 'Trial_Data//GuitSig_with_' + fx_name\n",
    "dry = []\n",
    "wet = []\n",
    "effect_indices = []\n",
    "files_dry = Path(directory_dry).glob('*')\n",
    "files_wet = Path(directory_wet).glob('*')\n",
    "for filename in files_dry:\n",
    "    x, samplerate_x = librosa.load(filename, mono=True, sr=fs, duration=1.0, dtype=np.float32)\n",
    "    dry.append(x)\n",
    "for filename in files_wet:\n",
    "    y, samplerate_y = librosa.load(filename, mono=True, sr=fs, duration=1.0, dtype=np.float32)\n",
    "    wet.append(y)\n",
    "\n",
    "dry = np.array(dry)\n",
    "wet = np.array(wet)"
   ]
  },
  {
   "cell_type": "code",
   "execution_count": 6,
   "metadata": {},
   "outputs": [
    {
     "name": "stdout",
     "output_type": "stream",
     "text": [
      "Model: \"functional_model\"\n",
      "_________________________________________________________________\n",
      " Layer (type)                Output Shape              Param #   \n",
      "=================================================================\n",
      " input_1 (InputLayer)        [(None, 44100, 1)]        0         \n",
      "                                                                 \n",
      " First_1D_Conv (Conv1D)      (None, 3675, 16)          208       \n",
      "                                                                 \n",
      " Second_1D_Conv (Conv1D)     (None, 307, 16)           3088      \n",
      "                                                                 \n",
      " LSTM (LSTM)                 (None, 36)                7632      \n",
      "                                                                 \n",
      " Output (Dense)              (None, 44100)             1631700   \n",
      "                                                                 \n",
      "=================================================================\n",
      "Total params: 1,642,628\n",
      "Trainable params: 1,642,628\n",
      "Non-trainable params: 0\n",
      "_________________________________________________________________\n"
     ]
    }
   ],
   "source": [
    "# Create Functional Model ###########################################\n",
    "clear_session()\n",
    "input_shape = (fs,1)\n",
    "inputs = tf.keras.Input(shape=input_shape) # 1 second\n",
    "\n",
    "conv1D_1 = Conv1D(conv1d_filters, 12,strides=conv1d_strides, activation=None, padding='same', input_shape=(input_shape), name='First_1D_Conv')(inputs)\n",
    "#output_after_1st_layer = conv1D_1(inputs)\n",
    "output_after_2nd_layer = Conv1D(conv1d_filters, 12,strides=conv1d_strides, activation=None, padding='same', name='Second_1D_Conv')(conv1D_1)\n",
    "output_after_lstm_layer = LSTM(hidden_units, name='LSTM')(output_after_2nd_layer)\n",
    "\n",
    "outputs = Dense(fs, activation=None, name='Output')(output_after_lstm_layer)\n",
    "model_functional_api = tf.keras.Model(inputs=inputs, outputs=outputs, name=\"functional_model\")\n",
    "model_functional_api.summary()\n",
    "model_functional_api.compile(optimizer=Adam(learning_rate=learning_rate), loss='mse', metrics=[error_to_signal])"
   ]
  },
  {
   "cell_type": "code",
   "execution_count": 7,
   "metadata": {},
   "outputs": [
    {
     "name": "stdout",
     "output_type": "stream",
     "text": [
      "(100, 44100)\n"
     ]
    }
   ],
   "source": [
    "# Chorus ###########################################\n",
    "\n",
    "### Custom Form for Functional Model\n",
    "\n",
    "X_all = dry[:100].astype(np.float32)\n",
    "print(X_all.shape)\n",
    "X_all = X_all.reshape(len(X_all),44100, 1)\n",
    "y_all = wet[:100].astype(np.float32)\n",
    "y_all = y_all.reshape(len(y_all),44100, 1)\n",
    "train_examples = int(len(X_all)*0.8)\n",
    "\n",
    "xtrain, xtest, ytrain, ytest=train_test_split(X_all, y_all, test_size=0.15)"
   ]
  },
  {
   "cell_type": "code",
   "execution_count": 9,
   "metadata": {},
   "outputs": [
    {
     "name": "stdout",
     "output_type": "stream",
     "text": [
      "Epoch 1/10\n",
      "3/3 [==============================] - 1s 340ms/step - loss: 0.0207 - error_to_signal: 58.8897 - val_loss: 0.0230 - val_error_to_signal: 32.5182\n",
      "Epoch 2/10\n",
      "3/3 [==============================] - 1s 295ms/step - loss: 0.0207 - error_to_signal: 43.7843 - val_loss: 0.0230 - val_error_to_signal: 79.1709\n",
      "Epoch 3/10\n",
      "3/3 [==============================] - 1s 313ms/step - loss: 0.0205 - error_to_signal: 81.0754 - val_loss: 0.0230 - val_error_to_signal: 149.2393\n",
      "Epoch 4/10\n",
      "3/3 [==============================] - 1s 332ms/step - loss: 0.0203 - error_to_signal: 133.5816 - val_loss: 0.0232 - val_error_to_signal: 191.8264\n",
      "Epoch 5/10\n",
      "3/3 [==============================] - 1s 331ms/step - loss: 0.0200 - error_to_signal: 140.6963 - val_loss: 0.0234 - val_error_to_signal: 104.2641\n",
      "Epoch 6/10\n",
      "3/3 [==============================] - 1s 356ms/step - loss: 0.0197 - error_to_signal: 66.7948 - val_loss: 0.0237 - val_error_to_signal: 48.6845\n",
      "Epoch 7/10\n",
      "3/3 [==============================] - 1s 398ms/step - loss: 0.0195 - error_to_signal: 61.4026 - val_loss: 0.0239 - val_error_to_signal: 57.7135\n",
      "Epoch 8/10\n",
      "3/3 [==============================] - 1s 271ms/step - loss: 0.0191 - error_to_signal: 94.6188 - val_loss: 0.0241 - val_error_to_signal: 52.3074\n",
      "Epoch 9/10\n",
      "3/3 [==============================] - 1s 306ms/step - loss: 0.0186 - error_to_signal: 77.9134 - val_loss: 0.0245 - val_error_to_signal: 59.0636\n",
      "Epoch 10/10\n",
      "3/3 [==============================] - 1s 273ms/step - loss: 0.0184 - error_to_signal: 77.7758 - val_loss: 0.0247 - val_error_to_signal: 59.5719\n",
      "Running prediction..\n",
      "3/3 - 0s - loss: 0.0193 - error_to_signal: 100.9801 - 289ms/epoch - 96ms/step\n",
      "Loss: 0.019282422959804535  Accuracy: 100.9801025390625\n"
     ]
    }
   ],
   "source": [
    "# Train Functional Model ###################################################\n",
    "history = model_functional_api.fit(xtrain, ytrain, epochs=epochs, verbose=1, validation_split=0.2, shuffle=True)    \n",
    "model_functional_api.save(path+name+'functional_model'+'.h5', overwrite=True)\n",
    "\n",
    "# Run Prediction #################################################\n",
    "print(\"Running prediction..\")\n",
    "\n",
    "val_loss, val_acc = model_functional_api.evaluate(xtrain, ytrain, verbose=2)\n",
    "print(\"Loss:\", val_loss, \" Accuracy:\", val_acc)\n",
    "\n",
    "prediction = model_functional_api.predict(xtest)\n",
    "\n",
    "save_wav( path+'y_pred.wav', prediction)\n",
    "save_wav( path+'x_test.wav', xtest)\n",
    "save_wav( path+'y_test.wav', ytest)\n",
    "\n",
    "# Add additional data to the saved model (like input_size)\n",
    "filename = 'models/'+name+'_functional'+'/'+name+'functional_model'+'.h5'\n",
    "f = h5py.File(filename, 'a')\n",
    "grp = f.create_group(\"info\")\n",
    "dset = grp.create_dataset(\"input_size\", (1,), dtype='int16')\n",
    "dset[0] = input_size\n",
    "f.close()"
   ]
  },
  {
   "cell_type": "code",
   "execution_count": 10,
   "metadata": {},
   "outputs": [
    {
     "data": {
      "image/png": "[encoded data removed]",
      "text/plain": [
       "<Figure size 1080x360 with 2 Axes>"
      ]
     },
     "metadata": {
      "needs_background": "light"
     },
     "output_type": "display_data"
    }
   ],
   "source": [
    "# visualizing losses and accuracy\n",
    "train_loss, val_loss = history.history['loss'], history.history['val_loss']\n",
    "#train_acc, val_acc = history.history['accuracy'], history.history['val_accuracy']\n",
    "\n",
    "# setup plot\n",
    "fig, ax = plt.subplots(nrows=1, ncols=2,figsize=(15,5))\n",
    " \n",
    "# plot loss\n",
    "ax[0].plot(range(epochs), train_loss)\n",
    "ax[0].plot(range(epochs), val_loss)\n",
    "ax[0].set_ylabel('loss')\n",
    "ax[0].set_title('train_loss vs val_loss')\n",
    "\n",
    "# plot accuracy\n",
    "#ax[1].plot(range(epochs), train_acc)\n",
    "#ax[1].plot(range(epochs), val_acc)\n",
    "#ax[1].set_ylabel('accuracy')\n",
    "#ax[1].set_title('train_acc vs val_acc')\n",
    "\n",
    "# plot adjustement\n",
    "for a in ax:\n",
    "    a.grid(True)\n",
    "    a.legend(['train','val'],loc=4)\n",
    "    a.set_xlabel('num of Epochs')\n",
    "    \n",
    "plt.show()"
   ]
  }
 ],
 "metadata": {
  "interpreter": {
   "hash": "63fd5069d213b44bf678585dea6b12cceca9941eaf7f819626cde1f2670de90d"
  },
  "kernelspec": {
   "display_name": "Python 3.9.0 64-bit",
   "language": "python",
   "name": "python3"
  },
  "language_info": {
   "codemirror_mode": {
    "name": "ipython",
    "version": 3
   },
   "file_extension": ".py",
   "mimetype": "text/x-python",
   "name": "python",
   "nbconvert_exporter": "python",
   "pygments_lexer": "ipython3",
   "version": "3.9.0"
  },
  "orig_nbformat": 4
 },
 "nbformat": 4,
 "nbformat_minor": 2
}
