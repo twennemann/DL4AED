{
 "cells": [
  {
   "cell_type": "code",
   "execution_count": 1,
   "metadata": {},
   "outputs": [],
   "source": [
    "import numpy as np\n",
    "import librosa\n",
    "import soundfile as sf\n",
    "from scipy.io import wavfile\n",
    "from pedalboard import (\n",
    "    Pedalboard,\n",
    "    Convolution,\n",
    "    Compressor,\n",
    "    Chorus,\n",
    "    Distortion,\n",
    "    Gain,\n",
    "    Reverb,\n",
    "    Limiter,\n",
    "    LadderFilter,\n",
    "    Phaser,\n",
    ")"
   ]
  },
  {
   "cell_type": "code",
   "execution_count": 2,
   "metadata": {},
   "outputs": [],
   "source": [
    "fs = 44100\n",
    "\n",
    "def save_wav(name, data):\n",
    "    wavfile.write(name, fs, data.flatten().astype(np.float32))\n",
    "\n",
    "# normalize data to loudest signal\n",
    "def normalize(data):\n",
    "    data_max = max(data)\n",
    "    data_min = min(data)\n",
    "    data_norm = max(data_max,abs(data_min))\n",
    "    return data / data_norm\n",
    "\n",
    "# add fadeout with length samples   \n",
    "def apply_fadeout(audio, length):\n",
    "    # convert to audio indices (samples)\n",
    "    #length = int(duration*sr)\n",
    "    end = len(audio)\n",
    "    start = end - length\n",
    "    # compute fade out curve\n",
    "    # linear fade\n",
    "    fade_curve = np.linspace(1.0, 0.0, length)\n",
    "    audio[start:end] = audio[start:end] *fade_curve\n",
    "    return audio"
   ]
  },
  {
   "cell_type": "code",
   "execution_count": null,
   "metadata": {},
   "outputs": [],
   "source": [
    "# loads guitar signals, cuts them to 1 sec and rewrties them with fade out and normalized\n",
    "# has been done already\n",
    "'''\n",
    "for input in range(1, 101, 1):\n",
    "    x, samplerate = librosa.load('Trial_Data/GuitSigClean_Monophon/Monophon (%d).wav' %input, mono=True, sr=fs, duration=1.0, dtype=np.float32)          \n",
    "    x = apply_fadeout(normalize(x),100)\n",
    "    save_wav('Trial_Data/GuitSigClean_1/Monophon_1sec_(%d).wav' %(input), x)\n",
    "    #with sf.SoundFile('Trial_Data/GuitSigClean_1/Monophon_1sec_(%d).wav' %(input), 'w', samplerate=fs, channels=len(x.shape)) as f:\n",
    "    #    f.write(x)\n",
    "\n",
    "x_test, ssmp = librosa.load('Trial_Data/GuitSigClean_1/Monophon_1sec_(1).wav', sr=44100, dtype=np.float32)\n",
    "print(type(x_test))\n",
    "'''"
   ]
  },
  {
   "cell_type": "code",
   "execution_count": 6,
   "metadata": {},
   "outputs": [],
   "source": [
    "# writing pedalboard processed audio sorted by effect type\n",
    "# reading processed audio and append to dry and wet array\n",
    "from pathlib import Path\n",
    "fx_list = [Chorus(), Phaser(), Distortion()]\n",
    "fx_names = ['Chorus', 'Phaser', 'Distortion']\n",
    "#dry = []\n",
    "#wet = []\n",
    "#effect_indices = []\n",
    "directory_dry = 'Trial_Data//GuitSigClean_1'\n",
    "files_dry = Path(directory_dry).glob('*')\n",
    "for fx in range(0, 3, 1): # 0 = Chorus, 1 = Phaser, 2 = Distortion\n",
    "    board = Pedalboard([fx_list[fx]], sample_rate=fs)\n",
    "    input = 1\n",
    "    for f in files_dry:\n",
    "        x, samplerate = librosa.load(f, mono=True, sr=fs, duration=1.0, dtype=np.float32)\n",
    "        x = apply_fadeout(normalize(x),100)\n",
    "        output = board(x)\n",
    "        output = apply_fadeout(output, 100)\n",
    "        save_wav('Trial_Data/GuitSig_with_%s/Monophon_with_%s (%d).wav' %(fx_names[fx],fx_names[fx],input), output)\n",
    "        input = input + 1\n",
    "\n",
    "#dry = np.array(dry)\n",
    "#wet = np.array(wet)\n",
    "#effect_indices = np.array(effect_indices)\n",
    "#dataset_dry = tf.data.Dataset.from_tensor_slices(dry)\n",
    "#dataset_wet = tf.data.Dataset.from_tensor_slices(wet)\n",
    "#dataset_effect_indices = tf.data.Dataset.from_tensor_slices(effect_indices)"
   ]
  }
 ],
 "metadata": {
  "interpreter": {
   "hash": "63fd5069d213b44bf678585dea6b12cceca9941eaf7f819626cde1f2670de90d"
  },
  "kernelspec": {
   "display_name": "Python 3.9.0 64-bit",
   "language": "python",
   "name": "python3"
  },
  "language_info": {
   "codemirror_mode": {
    "name": "ipython",
    "version": 3
   },
   "file_extension": ".py",
   "mimetype": "text/x-python",
   "name": "python",
   "nbconvert_exporter": "python",
   "pygments_lexer": "ipython3",
   "version": "3.9.0"
  },
  "orig_nbformat": 4
 },
 "nbformat": 4,
 "nbformat_minor": 2
}
