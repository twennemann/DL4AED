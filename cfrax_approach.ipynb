{
 "cells": [
  {
   "cell_type": "code",
   "execution_count": 16,
   "metadata": {},
   "outputs": [
    {
     "ename": "TypeError",
     "evalue": "'int' object is not callable",
     "output_type": "error",
     "traceback": [
      "\u001b[1;31m---------------------------------------------------------------------------\u001b[0m",
      "\u001b[1;31mTypeError\u001b[0m                                 Traceback (most recent call last)",
      "\u001b[1;32mC:\\Users\\SEBAST~1.BER\\AppData\\Local\\Temp/ipykernel_14088/770811253.py\u001b[0m in \u001b[0;36m<module>\u001b[1;34m\u001b[0m\n\u001b[0;32m      1\u001b[0m \u001b[1;32mimport\u001b[0m \u001b[0mnumpy\u001b[0m \u001b[1;32mas\u001b[0m \u001b[0mnp\u001b[0m\u001b[1;33m\u001b[0m\u001b[1;33m\u001b[0m\u001b[0m\n\u001b[1;32m----> 2\u001b[1;33m \u001b[0mname\u001b[0m \u001b[1;33m=\u001b[0m \u001b[0minput\u001b[0m\u001b[1;33m(\u001b[0m\u001b[1;34m'Name of the Model: '\u001b[0m\u001b[1;33m)\u001b[0m\u001b[1;33m\u001b[0m\u001b[1;33m\u001b[0m\u001b[0m\n\u001b[0m\u001b[0;32m      3\u001b[0m \u001b[0mepochs\u001b[0m \u001b[1;33m=\u001b[0m \u001b[0mint\u001b[0m\u001b[1;33m(\u001b[0m\u001b[0minput\u001b[0m\u001b[1;33m(\u001b[0m\u001b[1;34m'Number of Epochs: '\u001b[0m\u001b[1;33m)\u001b[0m\u001b[1;33m)\u001b[0m\u001b[1;33m\u001b[0m\u001b[1;33m\u001b[0m\u001b[0m\n\u001b[0;32m      4\u001b[0m \u001b[0mbatch_size\u001b[0m \u001b[1;33m=\u001b[0m \u001b[0mint\u001b[0m\u001b[1;33m(\u001b[0m\u001b[0minput\u001b[0m\u001b[1;33m(\u001b[0m\u001b[1;34m'Batch Size: '\u001b[0m\u001b[1;33m)\u001b[0m\u001b[1;33m)\u001b[0m\u001b[1;33m\u001b[0m\u001b[1;33m\u001b[0m\u001b[0m\n",
      "\u001b[1;31mTypeError\u001b[0m: 'int' object is not callable"
     ]
    }
   ],
   "source": [
    "import numpy as np\n",
    "name = input('Name of the Model: ')\n",
    "epochs = int(input('Number of Epochs: '))\n",
    "batch_size = int(input('Batch Size: '))"
   ]
  },
  {
   "cell_type": "code",
   "execution_count": 111,
   "metadata": {},
   "outputs": [],
   "source": [
    "#!pip install tensorflow\n",
    "#!pip install pedalboard\n",
    "#import soundfile as sf\n",
    "import tensorflow as tf\n",
    "#from tensorflow.keras import Sequential\n",
    "from tensorflow.keras.layers import LSTM, Conv1D, Dense, MaxPooling1D, Bidirectional\n",
    "from tensorflow.keras.optimizers import Adam\n",
    "from tensorflow.keras.backend import clear_session\n",
    "#from tensorflow.keras.activations import tanh, elu, relu\n",
    "#from tensorflow.keras.models import load_model\n",
    "import tensorflow.keras.backend as K\n",
    "from tensorflow.keras.utils import Sequence\n",
    "from sklearn.model_selection import train_test_split\n",
    "from scipy.io import wavfile\n",
    "import os\n",
    "import glob\n",
    "import matplotlib.pyplot as plt\n",
    "#import math\n",
    "import h5py\n",
    "import librosa\n",
    "from pedalboard import (\n",
    "    Pedalboard,\n",
    "    Convolution,\n",
    "    Compressor,\n",
    "    Chorus,\n",
    "    Distortion,\n",
    "    Gain,\n",
    "    Reverb,\n",
    "    Limiter,\n",
    "    LadderFilter,\n",
    "    Phaser,\n",
    ")"
   ]
  },
  {
   "cell_type": "code",
   "execution_count": 67,
   "metadata": {},
   "outputs": [
    {
     "name": "stdout",
     "output_type": "stream",
     "text": [
      "A model with the same name already exists. Please choose a new name.\n"
     ]
    }
   ],
   "source": [
    "# EDIT THIS SECTION FOR USER INPUTS\n",
    "#\n",
    "\n",
    "path = 'models/'+name+'_functional/'\n",
    "\n",
    "audiosource = 'Trial_Data/GuitSigClean_Monophon'\n",
    "#name = 'Chorus_Test'\n",
    "if not os.path.exists(path):\n",
    "    os.makedirs(path)\n",
    "else:\n",
    "    print(\"A model with the same name already exists. Please choose a new name.\")\n",
    "    exit\n",
    "\n",
    "epochs = 10\n",
    "fs = 44100\n",
    "batch_size = 10 \n",
    "test_size = 0.2\n",
    "input_size = 100\n",
    "\n",
    "train_mode = 1     # 0 = speed training, \n",
    "                   # 1 = accuracy training \n",
    "                   # 2 = extended training\n",
    "if train_mode == 0:         # Speed Training\n",
    "    learning_rate = 0.01 \n",
    "    conv1d_strides = 12    \n",
    "    conv1d_filters = 16\n",
    "    hidden_units = 36\n",
    "elif train_mode == 1:       # Accuracy Training (~10x longer than Speed Training)\n",
    "    learning_rate = 0.01 \n",
    "    conv1d_strides = 4\n",
    "    conv1d_filters = 36\n",
    "    hidden_units= 64\n",
    "else:                       # Extended Training (~60x longer than Accuracy Training)\n",
    "    learning_rate = 0.0005 \n",
    "    conv1d_strides = 3\n",
    "    conv1d_filters = 36\n",
    "    hidden_units= 96\n",
    "    "
   ]
  },
  {
   "cell_type": "code",
   "execution_count": 4,
   "metadata": {},
   "outputs": [],
   "source": [
    "class WindowArray(Sequence):\n",
    "        \n",
    "    def __init__(self, x, y, window_len, batch_size=32):\n",
    "        self.x = x\n",
    "        self.y = y[window_len-1:] \n",
    "        self.window_len = window_len\n",
    "        self.batch_size = batch_size\n",
    "        \n",
    "    def __len__(self):\n",
    "        l = len(self.x)\n",
    "        return (len(self.x) - self.window_len +1) // self.batch_size\n",
    "    \n",
    "    def __getitem__(self, index):\n",
    "        x_out = np.stack([self.x[idx: idx+self.window_len] for idx in range(index*self.batch_size, (index+1)*self.batch_size)])\n",
    "        y_out = self.y[index*self.batch_size:(index+1)*self.batch_size]\n",
    "        return x_out, y_out\n",
    "\n",
    "def pre_emphasis_filter(x, coeff=0.95):\n",
    "    return tf.concat([x, x - coeff * x], 1)\n",
    "    \n",
    "def error_to_signal(y_true, y_pred): \n",
    "    \"\"\"\n",
    "    Error to signal ratio with pre-emphasis filter:\n",
    "    \"\"\"\n",
    "    y_true, y_pred = pre_emphasis_filter(y_true), pre_emphasis_filter(y_pred)\n",
    "    return K.sum(tf.pow(y_true - y_pred, 2), axis=0) / (K.sum(tf.pow(y_true, 2), axis=0) + 1e-10)\n",
    "    \n",
    "def save_wav(name, data):\n",
    "    wavfile.write(name, fs, data.flatten().astype(np.float32))\n",
    "\n",
    "# normalize data to loudest signal\n",
    "def normalize(data):\n",
    "    data_max = max(data)\n",
    "    data_min = min(data)\n",
    "    data_norm = max(data_max,abs(data_min))\n",
    "    return data / data_norm\n",
    "\n",
    "# add fadeout with length samples   \n",
    "def apply_fadeout(audio, length):\n",
    "    # convert to audio indices (samples)\n",
    "    #length = int(duration*sr)\n",
    "    end = len(audio)\n",
    "    start = end - length\n",
    "    # compute fade out curve\n",
    "    # linear fade\n",
    "    fade_curve = np.linspace(1.0, 0.0, length)\n",
    "    audio[start:end] = audio[start:end] *fade_curve\n",
    "    return audio"
   ]
  },
  {
   "cell_type": "code",
   "execution_count": 26,
   "metadata": {},
   "outputs": [
    {
     "name": "stdout",
     "output_type": "stream",
     "text": [
      "<class 'numpy.ndarray'>\n"
     ]
    }
   ],
   "source": [
    "# loads guitar signals, cuts them to 1 sec and rewrties them with fade out and normalized\n",
    "# has been done already\n",
    "\n",
    "for i, file in enumerate (glob.glob(audiosource+'*.wav')):\n",
    "    x, samplerate = librosa.load('Trial_Data/GuitSigClean_Monophon/Monophon (%d).wav' %i, mono=True, sr=fs, duration=1.0, dtype=np.float32)          \n",
    "    x = apply_fadeout(normalize(x),100)\n",
    "    save_wav('Trial_Data/GuitSigClean_1/Monophon_1sec_(%d).wav' %(input), x)\n",
    "    #with sf.SoundFile('Trial_Data/GuitSigClean_1/Monophon_1sec_(%d).wav' %(input), 'w', samplerate=fs, channels=len(x.shape)) as f:\n",
    "    #    f.write(x)\n",
    "\n",
    "x_test, ssmp = librosa.load('Trial_Data/GuitSigClean_1/Monophon_1sec_(1).wav', sr=44100, dtype=np.float32)\n",
    "print(type(x_test))\n"
   ]
  },
  {
   "cell_type": "code",
   "execution_count": 98,
   "metadata": {},
   "outputs": [],
   "source": [
    "# writing pedalboard processed audio sorted by effect type\n",
    "# reading processed audio and append to dry and wet array\n",
    "fx_list = [Chorus(), Phaser(), Distortion()]\n",
    "fx_names = ['Chorus', 'Phaser', 'Distortion']\n",
    "fx_list = [Compressor()]\n",
    "fx_names = ['Compressor']\n",
    "dry = []\n",
    "wet = []\n",
    "effect_indices = []\n",
    "for fx_iter,fx in enumerate(fx_list): # 0 = Chorus, 1 = Phaser, 2 = Distortion\n",
    "    board = Pedalboard([fx], sample_rate=fs)\n",
    "    for input in range(1, 401, 1):\n",
    "        x, samplerate = librosa.load('Trial_Data//GuitSigClean_1/Monophon_1sec_(%d).wav' %input, mono=True, sr=fs, duration=1.0, dtype=np.float32)\n",
    "        x = apply_fadeout(normalize(x),100)\n",
    "        output = board(x)\n",
    "        output = apply_fadeout(output, 100)\n",
    "        dry.append(x)\n",
    "        wet.append(output)\n",
    "        effect_indices.append(fx)\n",
    "        #save_wav('Trial_Data/GuitSig_with_%s/Monophon_with_%s (%d).wav' %(fx_names[fx],fx_names[fx],input), output)\n",
    "\n",
    "dry = np.array(dry)\n",
    "wet = np.array(wet)\n",
    "effect_indices = np.array(effect_indices)\n",
    "#dataset_dry = tf.data.Dataset.from_tensor_slices(dry)\n",
    "#dataset_wet = tf.data.Dataset.from_tensor_slices(wet)\n",
    "#dataset_effect_indices = tf.data.Dataset.from_tensor_slices(effect_indices)\n",
    "wet.shape\n",
    "\n",
    "# define testset\n",
    "xtrain, xtest, ytrain, ytest=train_test_split(dry, wet, test_size=0.15)"
   ]
  },
  {
   "cell_type": "code",
   "execution_count": 151,
   "metadata": {},
   "outputs": [
    {
     "name": "stdout",
     "output_type": "stream",
     "text": [
      "Model: \"functional_model\"\n",
      "_________________________________________________________________\n",
      " Layer (type)                Output Shape              Param #   \n",
      "=================================================================\n",
      " input_58 (InputLayer)       [(9, 4096, 1)]            0         \n",
      "                                                                 \n",
      " First_1D_Conv (Conv1D)      (9, 4096, 32)             416       \n",
      "                                                                 \n",
      " 2nd_1D_Conv_local (Conv1D)  (9, 4096, 32)             12320     \n",
      "                                                                 \n",
      " Max_Pool_1 (MaxPooling1D)   (9, 64, 32)               0         \n",
      "                                                                 \n",
      " LSTM (LSTM)                 (9, 128)                  82432     \n",
      "                                                                 \n",
      "=================================================================\n",
      "Total params: 95,168\n",
      "Trainable params: 95,168\n",
      "Non-trainable params: 0\n",
      "_________________________________________________________________\n"
     ]
    }
   ],
   "source": [
    "# Create Functional Model ###########################################\n",
    "# Name: CRAFx (see Martinez et al. Deep Learning for Black Box Modelling)\n",
    "\n",
    "# Parameters:\n",
    "epochs = 10\n",
    "fs = 44100\n",
    "batch_size = 10 \n",
    "#test_size = 0.2\n",
    "#input_size = 100\n",
    "\n",
    "\n",
    "learning_rate = 0.01 \n",
    "conv1d_strides = 1  \n",
    "conv1d_filters = 32\n",
    "\n",
    "# maxpool layer\n",
    "max_pool_1_strides = 64\n",
    "hidden_units = 36\n",
    "\n",
    "# LSTM Layers\n",
    "lstm_1_units = 64\n",
    "lstm_2_units = 32\n",
    "lstm_3_units = 16\n",
    "\n",
    "### Input section\n",
    "input_shape= (4096,1)\n",
    "inputs = tf.keras.Input(shape=input_shape,batch_size=9)\n",
    "conv1D_1 = Conv1D(conv1d_filters, 12,strides=conv1d_strides, activation=None, padding='same', input_shape=(input_shape), name='First_1D_Conv')(inputs)\n",
    "# hier muss irgendwie das mittlere (aktuelle, als residual gesafed werden)\n",
    "# was bedeutet abs??\n",
    "conv1D_1_loc = Conv1D(conv1d_filters, 12,strides=conv1d_strides, activation=None, padding='same', input_shape=(input_shape), name='2nd_1D_Conv_local')(conv1D_1)\n",
    "max_pool_1 = MaxPooling1D(pool_size=2, strides=max_pool_1_strides, padding='same', data_format='channels_last', name='Max_Pool_1')(conv1D_1_loc)\n",
    "\n",
    "### LSTM\n",
    "lstm_1 = LSTM(lstm_1_units,dropout=0.1,recurrent_dropout=0.1, activation=\"tanh\",go_backwards=True, name='LSTM')(max_pool_1)\n",
    "#lstm_2 = LSTM(lstm_2_units,dropout=0.1,recurrent_dropout=0.1, activation=\"tanh\",go_backwards=True, name='LSTM')(lstm_1)\n",
    "#lstm_3 = LSTM(lstm_3_units,dropout=0.1,recurrent_dropout=0.1,go_backwards=True, name='LSTM')(lstm_2)\n",
    "#bi_lstm_1 = tf.keras.layers.Bidirectional( LSTM(lstm_2_units,dropout=0.1,recurrent_dropout=0.1, activation=\"tanh\", name='LSTM_2'), input_shape=(input_shape))\n",
    "\n",
    "\n",
    "\n",
    "outputs = lstm_1\n",
    "model_functional_api = tf.keras.Model(inputs=inputs, outputs=outputs, name=\"functional_model\")\n",
    "model_functional_api.summary()\n",
    "model_functional_api.compile(optimizer=Adam(learning_rate=learning_rate), loss='mse', metrics=[error_to_signal])"
   ]
  },
  {
   "cell_type": "code",
   "execution_count": 125,
   "metadata": {},
   "outputs": [
    {
     "data": {
      "text/plain": [
       "<KerasTensor: shape=(None, 9, 1, 4096) dtype=float32 (created by layer 'input_34')>"
      ]
     },
     "execution_count": 125,
     "metadata": {},
     "output_type": "execute_result"
    }
   ],
   "source": [
    "inputs"
   ]
  },
  {
   "cell_type": "code",
   "execution_count": 72,
   "metadata": {},
   "outputs": [
    {
     "name": "stdout",
     "output_type": "stream",
     "text": [
      "Epoch 1/10\n",
      "9/9 [==============================] - 28s 3s/step - loss: 0.0552 - error_to_signal: 111.1401 - val_loss: 0.0504 - val_error_to_signal: 35.8683\n",
      "Epoch 2/10\n",
      "9/9 [==============================] - 25s 3s/step - loss: 0.0478 - error_to_signal: 51.8209 - val_loss: 0.0502 - val_error_to_signal: 49.4450\n",
      "Epoch 3/10\n",
      "9/9 [==============================] - 26s 3s/step - loss: 0.0472 - error_to_signal: 35.8374 - val_loss: 0.0496 - val_error_to_signal: 28.5294\n",
      "Epoch 4/10\n",
      "9/9 [==============================] - 25s 3s/step - loss: 0.0469 - error_to_signal: 28.3753 - val_loss: 0.0495 - val_error_to_signal: 34.9218\n",
      "Epoch 5/10\n",
      "9/9 [==============================] - 26s 3s/step - loss: 0.0465 - error_to_signal: 26.5803 - val_loss: 0.0495 - val_error_to_signal: 21.9550\n",
      "Epoch 6/10\n",
      "9/9 [==============================] - 24s 3s/step - loss: 0.0463 - error_to_signal: 17.5189 - val_loss: 0.0495 - val_error_to_signal: 18.2291\n",
      "Epoch 7/10\n",
      "9/9 [==============================] - 26s 3s/step - loss: 0.0460 - error_to_signal: 21.1265 - val_loss: 0.0496 - val_error_to_signal: 27.9774\n",
      "Epoch 8/10\n",
      "9/9 [==============================] - 25s 3s/step - loss: 0.0458 - error_to_signal: 23.0228 - val_loss: 0.0499 - val_error_to_signal: 19.5122\n",
      "Epoch 9/10\n",
      "9/9 [==============================] - 25s 3s/step - loss: 0.0456 - error_to_signal: 19.7064 - val_loss: 0.0500 - val_error_to_signal: 25.7258\n",
      "Epoch 10/10\n",
      "9/9 [==============================] - 24s 3s/step - loss: 0.0453 - error_to_signal: 23.7207 - val_loss: 0.0495 - val_error_to_signal: 20.3107\n",
      "Running prediction..\n",
      "11/11 - 6s - loss: 0.0461 - error_to_signal: 25.8919 - 6s/epoch - 560ms/step\n",
      "Loss: 0.04608593508601189  Accuracy: 25.891862869262695\n"
     ]
    },
    {
     "ename": "PermissionError",
     "evalue": "[Errno 13] Permission denied: 'models/initial_test_functional/y_pred.wav'",
     "output_type": "error",
     "traceback": [
      "\u001b[1;31m---------------------------------------------------------------------------\u001b[0m",
      "\u001b[1;31mPermissionError\u001b[0m                           Traceback (most recent call last)",
      "\u001b[1;32mC:\\Users\\SEBAST~1.BER\\AppData\\Local\\Temp/ipykernel_14088/2211930214.py\u001b[0m in \u001b[0;36m<module>\u001b[1;34m\u001b[0m\n\u001b[0;32m     11\u001b[0m \u001b[0mprediction\u001b[0m \u001b[1;33m=\u001b[0m \u001b[0mmodel_functional_api\u001b[0m\u001b[1;33m.\u001b[0m\u001b[0mpredict\u001b[0m\u001b[1;33m(\u001b[0m\u001b[0mxtest\u001b[0m\u001b[1;33m)\u001b[0m\u001b[1;33m\u001b[0m\u001b[1;33m\u001b[0m\u001b[0m\n\u001b[0;32m     12\u001b[0m \u001b[1;33m\u001b[0m\u001b[0m\n\u001b[1;32m---> 13\u001b[1;33m \u001b[0msave_wav\u001b[0m\u001b[1;33m(\u001b[0m \u001b[0mpath\u001b[0m\u001b[1;33m+\u001b[0m\u001b[1;34m'y_pred.wav'\u001b[0m\u001b[1;33m,\u001b[0m \u001b[0mprediction\u001b[0m\u001b[1;33m)\u001b[0m\u001b[1;33m\u001b[0m\u001b[1;33m\u001b[0m\u001b[0m\n\u001b[0m\u001b[0;32m     14\u001b[0m \u001b[0msave_wav\u001b[0m\u001b[1;33m(\u001b[0m \u001b[0mpath\u001b[0m\u001b[1;33m+\u001b[0m\u001b[1;34m'x_test.wav'\u001b[0m\u001b[1;33m,\u001b[0m \u001b[0mxtest\u001b[0m\u001b[1;33m)\u001b[0m\u001b[1;33m\u001b[0m\u001b[1;33m\u001b[0m\u001b[0m\n\u001b[0;32m     15\u001b[0m \u001b[0msave_wav\u001b[0m\u001b[1;33m(\u001b[0m \u001b[0mpath\u001b[0m\u001b[1;33m+\u001b[0m\u001b[1;34m'y_test.wav'\u001b[0m\u001b[1;33m,\u001b[0m \u001b[0mytest\u001b[0m\u001b[1;33m)\u001b[0m\u001b[1;33m\u001b[0m\u001b[1;33m\u001b[0m\u001b[0m\n",
      "\u001b[1;32mC:\\Users\\SEBAST~1.BER\\AppData\\Local\\Temp/ipykernel_14088/2136046376.py\u001b[0m in \u001b[0;36msave_wav\u001b[1;34m(name, data)\u001b[0m\n\u001b[0;32m     27\u001b[0m \u001b[1;33m\u001b[0m\u001b[0m\n\u001b[0;32m     28\u001b[0m \u001b[1;32mdef\u001b[0m \u001b[0msave_wav\u001b[0m\u001b[1;33m(\u001b[0m\u001b[0mname\u001b[0m\u001b[1;33m,\u001b[0m \u001b[0mdata\u001b[0m\u001b[1;33m)\u001b[0m\u001b[1;33m:\u001b[0m\u001b[1;33m\u001b[0m\u001b[1;33m\u001b[0m\u001b[0m\n\u001b[1;32m---> 29\u001b[1;33m     \u001b[0mwavfile\u001b[0m\u001b[1;33m.\u001b[0m\u001b[0mwrite\u001b[0m\u001b[1;33m(\u001b[0m\u001b[0mname\u001b[0m\u001b[1;33m,\u001b[0m \u001b[0mfs\u001b[0m\u001b[1;33m,\u001b[0m \u001b[0mdata\u001b[0m\u001b[1;33m.\u001b[0m\u001b[0mflatten\u001b[0m\u001b[1;33m(\u001b[0m\u001b[1;33m)\u001b[0m\u001b[1;33m.\u001b[0m\u001b[0mastype\u001b[0m\u001b[1;33m(\u001b[0m\u001b[0mnp\u001b[0m\u001b[1;33m.\u001b[0m\u001b[0mfloat32\u001b[0m\u001b[1;33m)\u001b[0m\u001b[1;33m)\u001b[0m\u001b[1;33m\u001b[0m\u001b[1;33m\u001b[0m\u001b[0m\n\u001b[0m\u001b[0;32m     30\u001b[0m \u001b[1;33m\u001b[0m\u001b[0m\n\u001b[0;32m     31\u001b[0m \u001b[1;31m# normalize data to loudest signal\u001b[0m\u001b[1;33m\u001b[0m\u001b[1;33m\u001b[0m\u001b[1;33m\u001b[0m\u001b[0m\n",
      "\u001b[1;32m~\\Anaconda3\\envs\\dl4aed\\lib\\site-packages\\scipy\\io\\wavfile.py\u001b[0m in \u001b[0;36mwrite\u001b[1;34m(filename, rate, data)\u001b[0m\n\u001b[0;32m    764\u001b[0m         \u001b[0mfid\u001b[0m \u001b[1;33m=\u001b[0m \u001b[0mfilename\u001b[0m\u001b[1;33m\u001b[0m\u001b[1;33m\u001b[0m\u001b[0m\n\u001b[0;32m    765\u001b[0m     \u001b[1;32melse\u001b[0m\u001b[1;33m:\u001b[0m\u001b[1;33m\u001b[0m\u001b[1;33m\u001b[0m\u001b[0m\n\u001b[1;32m--> 766\u001b[1;33m         \u001b[0mfid\u001b[0m \u001b[1;33m=\u001b[0m \u001b[0mopen\u001b[0m\u001b[1;33m(\u001b[0m\u001b[0mfilename\u001b[0m\u001b[1;33m,\u001b[0m \u001b[1;34m'wb'\u001b[0m\u001b[1;33m)\u001b[0m\u001b[1;33m\u001b[0m\u001b[1;33m\u001b[0m\u001b[0m\n\u001b[0m\u001b[0;32m    767\u001b[0m \u001b[1;33m\u001b[0m\u001b[0m\n\u001b[0;32m    768\u001b[0m     \u001b[0mfs\u001b[0m \u001b[1;33m=\u001b[0m \u001b[0mrate\u001b[0m\u001b[1;33m\u001b[0m\u001b[1;33m\u001b[0m\u001b[0m\n",
      "\u001b[1;31mPermissionError\u001b[0m: [Errno 13] Permission denied: 'models/initial_test_functional/y_pred.wav'"
     ]
    }
   ],
   "source": [
    "# Train Functional Model ###################################################\n",
    "history = model_functional_api.fit(xtrain, ytrain, epochs=epochs, verbose=1, validation_split=0.2, shuffle=True)    \n",
    "model_functional_api.save(path+name+'_'+'functional_model'+'.h5', overwrite=True)\n",
    "\n",
    "# Run Prediction #################################################\n",
    "print(\"Running prediction..\")\n",
    "\n",
    "val_loss, val_acc = model_functional_api.evaluate(xtrain, ytrain, verbose=2)\n",
    "print(\"Loss:\", val_loss, \" Accuracy:\", val_acc)\n",
    "\n",
    "prediction = model_functional_api.predict(xtest)\n",
    "\n",
    "save_wav( path+'y_pred.wav', prediction)\n",
    "save_wav( path+'x_test.wav', xtest)\n",
    "save_wav( path+'y_test.wav', ytest)\n",
    "\n",
    "# Add additional data to the saved model (like input_size)\n",
    "filename = path+name+'_'+'functional_model'+'.h5'\n",
    "f = h5py.File(filename, 'a')\n",
    "grp = f.create_group(\"info\")\n",
    "dset = grp.create_dataset(\"input_size\", (1,), dtype='int16')\n",
    "dset[0] = input_size\n",
    "f.close()"
   ]
  },
  {
   "cell_type": "code",
   "execution_count": 74,
   "metadata": {},
   "outputs": [
    {
     "data": {
      "image/png": "[encoded data removed]",
      "text/plain": [
       "<Figure size 1080x360 with 2 Axes>"
      ]
     },
     "metadata": {
      "needs_background": "light"
     },
     "output_type": "display_data"
    }
   ],
   "source": [
    "# visualizing losses and accuracy\n",
    "train_loss, val_loss = history.history['loss'], history.history['val_loss']\n",
    "#train_acc, val_acc = history.history['accuracy'], history.history['val_accuracy']\n",
    "\n",
    "# setup plot\n",
    "fig, ax = plt.subplots(nrows=1, ncols=2,figsize=(15,5))\n",
    " \n",
    "# plot loss\n",
    "ax[0].plot(range(epochs), train_loss)\n",
    "ax[0].plot(range(epochs), val_loss)\n",
    "ax[0].set_ylabel('loss')\n",
    "ax[0].set_title('train_loss vs val_loss')\n",
    "\n",
    "# plot accuracy\n",
    "#ax[1].plot(range(epochs), train_acc)\n",
    "#ax[1].plot(range(epochs), val_acc)\n",
    "#ax[1].set_ylabel('accuracy')\n",
    "#ax[1].set_title('train_acc vs val_acc')\n",
    "\n",
    "# plot adjustement\n",
    "for a in ax:\n",
    "    a.grid(True)\n",
    "    a.legend(['train','val'],loc=4)\n",
    "    a.set_xlabel('num of Epochs')\n",
    "    \n",
    "plt.show()"
   ]
  }
 ],
 "metadata": {
  "interpreter": {
   "hash": "63fd5069d213b44bf678585dea6b12cceca9941eaf7f819626cde1f2670de90d"
  },
  "kernelspec": {
   "display_name": "Python 3.9.0 64-bit",
   "language": "python",
   "name": "python3"
  },
  "language_info": {
   "codemirror_mode": {
    "name": "ipython",
    "version": 3
   },
   "file_extension": ".py",
   "mimetype": "text/x-python",
   "name": "python",
   "nbconvert_exporter": "python",
   "pygments_lexer": "ipython3",
   "version": "3.9.0"
  },
  "orig_nbformat": 4
 },
 "nbformat": 4,
 "nbformat_minor": 2
}
