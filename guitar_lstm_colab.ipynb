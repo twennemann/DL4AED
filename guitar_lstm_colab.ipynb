{
 "cells": [
  {
   "cell_type": "code",
   "execution_count": null,
   "metadata": {},
   "outputs": [],
   "source": [
    "#!pip install tensorflow\n",
    "#!pip install pedalboard"
   ]
  },
  {
   "cell_type": "code",
   "execution_count": 1,
   "metadata": {},
   "outputs": [],
   "source": [
    "# TO USE: \n",
    "#    1. Upload your input and output wav files to the current directory in Colab\n",
    "#    2. Edit the USER INPUTS section to point to your wav files, and choose a\n",
    "#         model name, and number of epochs for training. \n",
    "#    3. Run each section of code. The trained models and output wav files will be \n",
    "#         added to the \"models\" directory.\n",
    "#\n",
    "#     Note: Tested on CPU and GPU runtimes.\n",
    "#     Note: Uses MSE for loss calculation instead of Error to Signal with Pre-emphasis filter\n",
    "\n",
    "#import soundfile as sf\n",
    "import tensorflow as tf\n",
    "from tensorflow.keras import Sequential\n",
    "from tensorflow.keras.layers import LSTM, Conv1D, Dense\n",
    "from tensorflow.keras.optimizers import Adam\n",
    "from tensorflow.keras.backend import clear_session\n",
    "#from tensorflow.keras.activations import tanh, elu, relu\n",
    "#from tensorflow.keras.models import load_model\n",
    "import tensorflow.keras.backend as K\n",
    "from tensorflow.keras.utils import Sequence\n",
    "from sklearn.model_selection import train_test_split\n",
    "from scipy.io import wavfile\n",
    "import numpy as np\n",
    "import matplotlib.pyplot as plt\n",
    "#import math\n",
    "import h5py\n",
    "import librosa\n",
    "from pedalboard import (\n",
    "    Pedalboard,\n",
    "    Convolution,\n",
    "    Compressor,\n",
    "    Chorus,\n",
    "    Distortion,\n",
    "    Gain,\n",
    "    Reverb,\n",
    "    Limiter,\n",
    "    LadderFilter,\n",
    "    Phaser,\n",
    ")"
   ]
  },
  {
   "cell_type": "code",
   "execution_count": 2,
   "metadata": {},
   "outputs": [
    {
     "data": {
      "text/plain": [
       "'\\nin_file = \\'data/ts9_test1_in_FP32.wav\\'\\nout_file = \\'data/ts9_test1_out_FP32.wav\\'\\nepochs = 1\\n\\ntrain_mode = 0     # 0 = speed training, \\n                   # 1 = accuracy training \\n                   # 2 = extended training\\n\\ninput_size = 150 \\n\\nif not os.path.exists(\\'models/\\'+name):\\n    os.makedirs(\\'models/\\'+name)\\nelse:\\n    print(\"A model with the same name already exists. Please choose a new name.\")\\n    exit\\n'"
      ]
     },
     "execution_count": 2,
     "metadata": {},
     "output_type": "execute_result"
    }
   ],
   "source": [
    "# EDIT THIS SECTION FOR USER INPUTS\n",
    "#\n",
    "\n",
    "name = 'Chorus_Test'\n",
    "\n",
    "'''\n",
    "in_file = 'data/ts9_test1_in_FP32.wav'\n",
    "out_file = 'data/ts9_test1_out_FP32.wav'\n",
    "epochs = 1\n",
    "\n",
    "train_mode = 0     # 0 = speed training, \n",
    "                   # 1 = accuracy training \n",
    "                   # 2 = extended training\n",
    "\n",
    "input_size = 150 \n",
    "\n",
    "if not os.path.exists('models/'+name):\n",
    "    os.makedirs('models/'+name)\n",
    "else:\n",
    "    print(\"A model with the same name already exists. Please choose a new name.\")\n",
    "    exit\n",
    "'''"
   ]
  },
  {
   "cell_type": "code",
   "execution_count": 3,
   "metadata": {},
   "outputs": [],
   "source": [
    "fs = 44100\n",
    "\n",
    "class WindowArray(Sequence):\n",
    "        \n",
    "    def __init__(self, x, y, window_len, batch_size=32):\n",
    "        self.x = x\n",
    "        self.y = y[window_len-1:] \n",
    "        self.window_len = window_len\n",
    "        self.batch_size = batch_size\n",
    "        \n",
    "    def __len__(self):\n",
    "        l = len(self.x)\n",
    "        #return (len(self.x[0]) - self.window_len +1) // self.batch_size\n",
    "        return (len(self.x) - self.window_len +1) // self.batch_size\n",
    "    \n",
    "    def __getitem__(self, index):\n",
    "        x_out = np.stack([self.x[idx: idx+self.window_len] for idx in range(index*self.batch_size, (index+1)*self.batch_size)])\n",
    "        y_out = self.y[index*self.batch_size:(index+1)*self.batch_size]\n",
    "        return x_out, y_out\n",
    "\n",
    "def pre_emphasis_filter(x, coeff=0.95):\n",
    "    return tf.concat([x, x - coeff * x], 1)\n",
    "    \n",
    "def error_to_signal(y_true, y_pred): \n",
    "    \"\"\"\n",
    "    Error to signal ratio with pre-emphasis filter:\n",
    "    \"\"\"\n",
    "    y_true, y_pred = pre_emphasis_filter(y_true), pre_emphasis_filter(y_pred)\n",
    "    return K.sum(tf.pow(y_true - y_pred, 2), axis=0) / (K.sum(tf.pow(y_true, 2), axis=0) + 1e-10)\n",
    "    \n",
    "def save_wav(name, data):\n",
    "    wavfile.write(name, fs, data.flatten().astype(np.float32))\n",
    "\n",
    "# normalize data to loudest signal\n",
    "def normalize(data):\n",
    "    data_max = max(data)\n",
    "    data_min = min(data)\n",
    "    data_norm = max(data_max,abs(data_min))\n",
    "    return data / data_norm\n",
    "\n",
    "# add fadeout with length samples   \n",
    "def apply_fadeout(audio, length):\n",
    "    # convert to audio indices (samples)\n",
    "    #length = int(duration*sr)\n",
    "    end = len(audio)\n",
    "    start = end - length\n",
    "\n",
    "    # compute fade out curve\n",
    "    # linear fade\n",
    "    fade_curve = np.linspace(1.0, 0.0, length)\n",
    "    audio[start:end] = audio[start:end] *fade_curve\n",
    "    return audio"
   ]
  },
  {
   "cell_type": "code",
   "execution_count": 71,
   "metadata": {},
   "outputs": [],
   "source": [
    "### Simpler Form of WindowArray\n",
    "\n",
    "class ShwindowArray(Sequence):\n",
    "    def __init__(self, x, y, input_size=1000):\n",
    "        self.x = x\n",
    "        self.y = y\n",
    "        self.input_size = input_size\n",
    "        \n",
    "    def __len__(self):\n",
    "        l = len(self.x)\n",
    "        m = len(self.y)\n",
    "        if l != m:\n",
    "            print('Hey!')\n",
    "        return l\n",
    "    \n",
    "    def __getitem__(self, index):\n",
    "        x_out = self.x[index]\n",
    "        y_out = self.y[index]\n",
    "        return x_out, y_out"
   ]
  },
  {
   "cell_type": "code",
   "execution_count": null,
   "metadata": {},
   "outputs": [],
   "source": [
    "# loads guitar signals, cuts them to 1 sec and rewrties them with fade out and normalized\n",
    "# has been done already\n",
    "'''\n",
    "for input in range(1, 101, 1):\n",
    "    x, samplerate = librosa.load('Trial_Data/GuitSigClean_Monophon/Monophon (%d).wav' %input, mono=True, sr=fs, duration=1.0, dtype=np.float32)          \n",
    "    x = apply_fadeout(normalize(x),100)\n",
    "    save_wav('Trial_Data/GuitSigClean_1/Monophon_1sec_(%d).wav' %(input), x)\n",
    "    #with sf.SoundFile('Trial_Data/GuitSigClean_1/Monophon_1sec_(%d).wav' %(input), 'w', samplerate=fs, channels=len(x.shape)) as f:\n",
    "    #    f.write(x)\n",
    "\n",
    "x_test, ssmp = librosa.load('Trial_Data/GuitSigClean_1/Monophon_1sec_(1).wav', sr=44100, dtype=np.float32)\n",
    "print(type(x_test))\n",
    "'''"
   ]
  },
  {
   "cell_type": "code",
   "execution_count": 4,
   "metadata": {},
   "outputs": [
    {
     "data": {
      "text/plain": [
       "(300, 44100)"
      ]
     },
     "execution_count": 4,
     "metadata": {},
     "output_type": "execute_result"
    }
   ],
   "source": [
    "# writing pedalboard processed audio sorted by effect type\n",
    "# reading processed audio and append to dry and wet array\n",
    "fx_list = [Chorus(), Phaser(), Distortion()]\n",
    "fx_names = ['Chorus', 'Phaser', 'Distortion']\n",
    "dry = []\n",
    "wet = []\n",
    "effect_indices = []\n",
    "for fx in range(0, 3, 1): # 0 = Chorus, 1 = Phaser, 2 = Distortion\n",
    "    board = Pedalboard([fx_list[fx]], sample_rate=fs)\n",
    "    for input in range(1, 101, 1):\n",
    "        x, samplerate = librosa.load('Trial_Data//GuitSigClean_1/Monophon_1sec_(%d).wav' %input, mono=True, sr=fs, duration=1.0, dtype=np.float32)\n",
    "        x = apply_fadeout(normalize(x),100)\n",
    "        output = board(x)\n",
    "        output = apply_fadeout(output, 100)\n",
    "        dry.append(x)\n",
    "        wet.append(output)\n",
    "        effect_indices.append(fx)\n",
    "        #save_wav('Trial_Data/GuitSig_with_%s/Monophon_with_%s (%d).wav' %(fx_names[fx],fx_names[fx],input), output)\n",
    "\n",
    "dry = np.array(dry)\n",
    "wet = np.array(wet)\n",
    "effect_indices = np.array(effect_indices)\n",
    "dataset_dry = tf.data.Dataset.from_tensor_slices(dry)\n",
    "dataset_wet = tf.data.Dataset.from_tensor_slices(wet)\n",
    "dataset_effect_indices = tf.data.Dataset.from_tensor_slices(effect_indices)\n",
    "wet.shape"
   ]
  },
  {
   "cell_type": "code",
   "execution_count": 5,
   "metadata": {},
   "outputs": [],
   "source": [
    "'''This is a similar Tensorflow/Keras implementation of the LSTM model from the paper:\n",
    "    \"Real-Time Guitar Amplifier Emulation with Deep Learning\"\n",
    "    https://www.mdpi.com/2076-3417/10/3/766/htm\n",
    "\n",
    "    Uses a stack of two 1-D Convolutional layers, followed by LSTM, followed by \n",
    "    a Dense (fully connected) layer. Three preset training modes are available, \n",
    "    with further customization by editing the code. A Sequential tf.keras model \n",
    "    is implemented here.\n",
    "\n",
    "    Note: RAM may be a limiting factor for the parameter \"input_size\". The wav data\n",
    "      is preprocessed and stored in RAM, which improves training speed but quickly runs out\n",
    "      if using a large number for \"input_size\".  Reduce this if you are experiencing\n",
    "      RAM issues. \n",
    "    \n",
    "    --training_mode=0   Speed training (default)\n",
    "    --training_mode=1   Accuracy training\n",
    "    --training_mode=2   Extended training (set max_epochs as desired, for example 50+)\n",
    "'''\n",
    "\n",
    "batch_size = 4 \n",
    "test_size = 0.2\n",
    "train_mode = 0\n",
    "input_size = 100#500\n",
    "epochs = 20\n",
    "\n",
    "if train_mode == 0:         # Speed Training\n",
    "    learning_rate = 0.01 \n",
    "    conv1d_strides = 12    \n",
    "    conv1d_filters = 16\n",
    "    hidden_units = 36\n",
    "elif train_mode == 1:       # Accuracy Training (~10x longer than Speed Training)\n",
    "    learning_rate = 0.01 \n",
    "    conv1d_strides = 4\n",
    "    conv1d_filters = 36\n",
    "    hidden_units= 64\n",
    "else:                       # Extended Training (~60x longer than Accuracy Training)\n",
    "    learning_rate = 0.0005 \n",
    "    conv1d_strides = 3\n",
    "    conv1d_filters = 36\n",
    "    hidden_units= 96"
   ]
  },
  {
   "cell_type": "code",
   "execution_count": 7,
   "metadata": {},
   "outputs": [
    {
     "name": "stdout",
     "output_type": "stream",
     "text": [
      "Model: \"sequential\"\n",
      "_________________________________________________________________\n",
      " Layer (type)                Output Shape              Param #   \n",
      "=================================================================\n",
      " conv1d (Conv1D)             (None, 84, 15)            195       \n",
      "                                                                 \n",
      " conv1d_1 (Conv1D)           (None, 7, 15)             2715      \n",
      "                                                                 \n",
      " lstm (LSTM)                 (None, 36)                7488      \n",
      "                                                                 \n",
      " dense (Dense)               (None, 1)                 37        \n",
      "                                                                 \n",
      "=================================================================\n",
      "Total params: 10,435\n",
      "Trainable params: 10,435\n",
      "Non-trainable params: 0\n",
      "_________________________________________________________________\n"
     ]
    }
   ],
   "source": [
    "# Create Sequential Model ###########################################\n",
    "clear_session()\n",
    "model = Sequential()\n",
    "model.add(Conv1D(conv1d_filters, 12,strides=conv1d_strides, activation=None, padding='same',input_shape=(input_size,1)))\n",
    "model.add(Conv1D(conv1d_filters, 12,strides=conv1d_strides, activation=None, padding='same'))\n",
    "model.add(LSTM(hidden_units))\n",
    "model.add(Dense(1, activation=None))\n",
    "model.compile(optimizer=Adam(learning_rate=learning_rate), loss='mse', metrics=[error_to_signal])\n",
    "model.summary()"
   ]
  },
  {
   "cell_type": "code",
   "execution_count": 12,
   "metadata": {},
   "outputs": [
    {
     "name": "stdout",
     "output_type": "stream",
     "text": [
      "Model: \"functional_model\"\n",
      "_________________________________________________________________\n",
      " Layer (type)                Output Shape              Param #   \n",
      "=================================================================\n",
      " input_1 (InputLayer)        [(None, 44100, 1)]        0         \n",
      "                                                                 \n",
      " First_1D_Conv (Conv1D)      (None, 3675, 16)          208       \n",
      "                                                                 \n",
      " Second_1D_Conv (Conv1D)     (None, 307, 16)           3088      \n",
      "                                                                 \n",
      " LSTM (LSTM)                 (None, 36)                7632      \n",
      "                                                                 \n",
      " Output (Dense)              (None, 44100)             1631700   \n",
      "                                                                 \n",
      "=================================================================\n",
      "Total params: 1,642,628\n",
      "Trainable params: 1,642,628\n",
      "Non-trainable params: 0\n",
      "_________________________________________________________________\n"
     ]
    }
   ],
   "source": [
    "# Create Functional Model ###########################################\n",
    "clear_session()\n",
    "input_shape = (fs,1)\n",
    "inputs = tf.keras.Input(shape=input_shape) # 1 second\n",
    "\n",
    "conv1D_1 = Conv1D(conv1d_filters, 12,strides=conv1d_strides, activation=None, padding='same', input_shape=(input_shape), name='First_1D_Conv')(inputs)\n",
    "#output_after_1st_layer = conv1D_1(inputs)\n",
    "output_after_2nd_layer = Conv1D(conv1d_filters, 12,strides=conv1d_strides, activation=None, padding='same', name='Second_1D_Conv')(conv1D_1)\n",
    "output_after_lstm_layer = LSTM(hidden_units, name='LSTM')(output_after_2nd_layer)\n",
    "\n",
    "outputs = Dense(fs, activation=None, name='Output')(output_after_lstm_layer)\n",
    "model_functional_api = tf.keras.Model(inputs=inputs, outputs=outputs, name=\"functional_model\")\n",
    "model_functional_api.summary()\n",
    "model_functional_api.compile(optimizer=Adam(learning_rate=learning_rate), loss='mse', metrics=[error_to_signal])"
   ]
  },
  {
   "cell_type": "code",
   "execution_count": 7,
   "metadata": {},
   "outputs": [
    {
     "name": "stdout",
     "output_type": "stream",
     "text": [
      "(100, 44100)\n"
     ]
    },
    {
     "data": {
      "text/plain": [
       "'\\nX_all = dry[:100].astype(np.float32).flatten()  \\nX_all = normalize(X_all).reshape(len(X_all),1)   \\ny_all = wet[:100].astype(np.float32).flatten() \\ny_all = normalize(y_all).reshape(len(y_all),1)\\ntrain_examples = int(len(X_all)*0.8)\\ntrain_arr = WindowArray(X_all[:train_examples], y_all[:train_examples], input_size, batch_size=batch_size)\\nval_arr = WindowArray(X_all[train_examples:], y_all[train_examples:], input_size, batch_size=batch_size)\\nprint(train_arr.__len__())\\n'"
      ]
     },
     "execution_count": 7,
     "metadata": {},
     "output_type": "execute_result"
    }
   ],
   "source": [
    "# Chorus ###########################################\n",
    "\n",
    "### Custom Form for Functional Model\n",
    "\n",
    "X_all = dry[:100].astype(np.float32)\n",
    "print(X_all.shape)\n",
    "X_all = X_all.reshape(len(X_all),44100, 1)\n",
    "y_all = wet[:100].astype(np.float32)\n",
    "y_all = y_all.reshape(len(y_all),44100, 1)\n",
    "train_examples = int(len(X_all)*0.8)\n",
    "\n",
    "xtrain, xtest, ytrain, ytest=train_test_split(X_all, y_all, test_size=0.15)\n",
    "\n",
    "### Original form\n",
    "'''\n",
    "X_all = dry[:100].astype(np.float32).flatten()  \n",
    "X_all = normalize(X_all).reshape(len(X_all),1)   \n",
    "y_all = wet[:100].astype(np.float32).flatten() \n",
    "y_all = normalize(y_all).reshape(len(y_all),1)\n",
    "train_examples = int(len(X_all)*0.8)\n",
    "train_arr = WindowArray(X_all[:train_examples], y_all[:train_examples], input_size, batch_size=batch_size)\n",
    "val_arr = WindowArray(X_all[train_examples:], y_all[train_examples:], input_size, batch_size=batch_size)\n",
    "print(train_arr.__len__())\n",
    "'''"
   ]
  },
  {
   "cell_type": "code",
   "execution_count": null,
   "metadata": {},
   "outputs": [],
   "source": [
    "# Train Sequential Model ###################################################\n",
    "history = model.fit(train_arr, validation_data=val_arr, epochs=epochs, shuffle=True)    \n",
    "model.save('models/'+name+'/'+name+'.h5')\n",
    "\n",
    "# Run Prediction #################################################\n",
    "print(\"Running prediction..\")\n",
    "\n",
    "# Get the last 20% of the wav data to run prediction and plot results\n",
    "y_the_rest, y_last_part = np.split(y_all, [int(len(y_all)*.8)])\n",
    "x_the_rest, x_last_part = np.split(X_all, [int(len(X_all)*.8)])\n",
    "y_test = y_last_part[input_size-1:] \n",
    "test_arr = WindowArray(x_last_part, y_last_part, input_size, batch_size = batch_size)\n",
    "\n",
    "prediction = model.predict(test_arr)\n",
    "\n",
    "save_wav('models/'+name+'/y_pred.wav', prediction)\n",
    "save_wav('models/'+name+'/x_test.wav', x_last_part)\n",
    "save_wav('models/'+name+'/y_test.wav', y_test)\n",
    "\n",
    "# \n",
    "# x_fft = np.fft.fft(x_last_part.flatten().astype(np.float32))\n",
    "# y_fft = np.fft.fft(prediction.flatten().astype(np.float32))\n",
    "\n",
    "# Add additional data to the saved model (like input_size)\n",
    "filename = 'models/'+name+'/'+name+'.h5'\n",
    "f = h5py.File(filename, 'a')\n",
    "grp = f.create_group(\"info\")\n",
    "dset = grp.create_dataset(\"input_size\", (1,), dtype='int16')\n",
    "dset[0] = input_size\n",
    "f.close()"
   ]
  },
  {
   "cell_type": "code",
   "execution_count": 13,
   "metadata": {},
   "outputs": [
    {
     "name": "stdout",
     "output_type": "stream",
     "text": [
      "Epoch 1/20\n",
      "3/3 [==============================] - 4s 617ms/step - loss: 0.0229 - error_to_signal: 1.1292 - val_loss: 0.0267 - val_error_to_signal: 1.2992\n",
      "Epoch 2/20\n",
      "3/3 [==============================] - 1s 251ms/step - loss: 0.0227 - error_to_signal: 1.1997 - val_loss: 0.0267 - val_error_to_signal: 1.6307\n",
      "Epoch 3/20\n",
      "3/3 [==============================] - 1s 255ms/step - loss: 0.0227 - error_to_signal: 1.8497 - val_loss: 0.0268 - val_error_to_signal: 1.2827\n",
      "Epoch 4/20\n",
      "3/3 [==============================] - 1s 257ms/step - loss: 0.0226 - error_to_signal: 2.0900 - val_loss: 0.0269 - val_error_to_signal: 5.6332\n",
      "Epoch 5/20\n",
      "3/3 [==============================] - 1s 267ms/step - loss: 0.0226 - error_to_signal: 10.8030 - val_loss: 0.0270 - val_error_to_signal: 10.4987\n",
      "Epoch 6/20\n",
      "3/3 [==============================] - 1s 268ms/step - loss: 0.0226 - error_to_signal: 16.3812 - val_loss: 0.0270 - val_error_to_signal: 18.8648\n",
      "Epoch 7/20\n",
      "3/3 [==============================] - 1s 247ms/step - loss: 0.0223 - error_to_signal: 24.4519 - val_loss: 0.0271 - val_error_to_signal: 29.4634\n",
      "Epoch 8/20\n",
      "3/3 [==============================] - 1s 248ms/step - loss: 0.0222 - error_to_signal: 35.4835 - val_loss: 0.0274 - val_error_to_signal: 47.6090\n",
      "Epoch 9/20\n",
      "3/3 [==============================] - 1s 261ms/step - loss: 0.0220 - error_to_signal: 70.9808 - val_loss: 0.0274 - val_error_to_signal: 70.0527\n",
      "Epoch 10/20\n",
      "3/3 [==============================] - 1s 268ms/step - loss: 0.0217 - error_to_signal: 116.6613 - val_loss: 0.0277 - val_error_to_signal: 145.1806\n",
      "Epoch 11/20\n",
      "3/3 [==============================] - 1s 267ms/step - loss: 0.0215 - error_to_signal: 180.2856 - val_loss: 0.0280 - val_error_to_signal: 184.5895\n",
      "Epoch 12/20\n",
      "3/3 [==============================] - 1s 262ms/step - loss: 0.0212 - error_to_signal: 186.1751 - val_loss: 0.0282 - val_error_to_signal: 167.5133\n",
      "Epoch 13/20\n",
      "3/3 [==============================] - 1s 246ms/step - loss: 0.0209 - error_to_signal: 138.9050 - val_loss: 0.0280 - val_error_to_signal: 93.8471\n",
      "Epoch 14/20\n",
      "3/3 [==============================] - 1s 245ms/step - loss: 0.0206 - error_to_signal: 105.4470 - val_loss: 0.0284 - val_error_to_signal: 42.6861\n",
      "Epoch 15/20\n",
      "3/3 [==============================] - 1s 277ms/step - loss: 0.0204 - error_to_signal: 68.3169 - val_loss: 0.0279 - val_error_to_signal: 23.9765\n",
      "Epoch 16/20\n",
      "3/3 [==============================] - 1s 251ms/step - loss: 0.0200 - error_to_signal: 57.3819 - val_loss: 0.0285 - val_error_to_signal: 45.0042\n",
      "Epoch 17/20\n",
      "3/3 [==============================] - 1s 241ms/step - loss: 0.0195 - error_to_signal: 85.7370 - val_loss: 0.0284 - val_error_to_signal: 44.9942\n",
      "Epoch 18/20\n",
      "3/3 [==============================] - 1s 251ms/step - loss: 0.0190 - error_to_signal: 72.1612 - val_loss: 0.0287 - val_error_to_signal: 47.0156\n",
      "Epoch 19/20\n",
      "3/3 [==============================] - 1s 242ms/step - loss: 0.0186 - error_to_signal: 65.0319 - val_loss: 0.0290 - val_error_to_signal: 49.8164\n",
      "Epoch 20/20\n",
      "3/3 [==============================] - 1s 239ms/step - loss: 0.0181 - error_to_signal: 55.4155 - val_loss: 0.0298 - val_error_to_signal: 37.5193\n",
      "Running prediction..\n",
      "3/3 - 0s - loss: 0.0200 - error_to_signal: 51.8806 - 279ms/epoch - 93ms/step\n",
      "Loss: 0.02004243992269039  Accuracy: 51.880611419677734\n"
     ]
    }
   ],
   "source": [
    "# Train Functional Model ###################################################\n",
    "history = model_functional_api.fit(xtrain, ytrain, epochs=epochs, verbose=1, validation_split=0.2, shuffle=True)    \n",
    "model_functional_api.save('models/'+name+'/'+name+'_functional'+'.h5', overwrite=True)\n",
    "\n",
    "# Run Prediction #################################################\n",
    "print(\"Running prediction..\")\n",
    "\n",
    "val_loss, val_acc = model_functional_api.evaluate(xtrain, ytrain, verbose=2)\n",
    "print(\"Loss:\", val_loss, \" Accuracy:\", val_acc)\n",
    "\n",
    "prediction = model_functional_api.predict(xtest)\n",
    "\n",
    "save_wav('models/'+name+'_functional'+'/y_pred.wav', prediction)\n",
    "save_wav('models/'+name+'_functional'+'/x_test.wav', xtest)\n",
    "save_wav('models/'+name+'_functional'+'/y_test.wav', ytest)\n",
    "\n",
    "# \n",
    "# x_fft = np.fft.fft(x_last_part.flatten().astype(np.float32))\n",
    "# y_fft = np.fft.fft(prediction.flatten().astype(np.float32))\n",
    "\n",
    "# Add additional data to the saved model (like input_size)\n",
    "filename = 'models/'+name+'/'+name+'_functional'+'.h5'\n",
    "f = h5py.File(filename, 'a')\n",
    "grp = f.create_group(\"info\")\n",
    "dset = grp.create_dataset(\"input_size\", (1,), dtype='int16')\n",
    "dset[0] = input_size\n",
    "f.close()"
   ]
  },
  {
   "cell_type": "code",
   "execution_count": 9,
   "metadata": {},
   "outputs": [
    {
     "data": {
      "image/png": "[encoded data removed]",
      "text/plain": [
       "<Figure size 1080x360 with 2 Axes>"
      ]
     },
     "metadata": {
      "needs_background": "light"
     },
     "output_type": "display_data"
    }
   ],
   "source": [
    "# visualizing losses and accuracy\n",
    "train_loss, val_loss = history.history['loss'], history.history['val_loss']\n",
    "#train_acc, val_acc = history.history['accuracy'], history.history['val_accuracy']\n",
    "\n",
    "# setup plot\n",
    "fig, ax = plt.subplots(nrows=1, ncols=2,figsize=(15,5))\n",
    " \n",
    "# plot loss\n",
    "ax[0].plot(range(epochs), train_loss)\n",
    "ax[0].plot(range(epochs), val_loss)\n",
    "ax[0].set_ylabel('loss')\n",
    "ax[0].set_title('train_loss vs val_loss')\n",
    "\n",
    "# plot accuracy\n",
    "#ax[1].plot(range(epochs), train_acc)\n",
    "#ax[1].plot(range(epochs), val_acc)\n",
    "#ax[1].set_ylabel('accuracy')\n",
    "#ax[1].set_title('train_acc vs val_acc')\n",
    "\n",
    "# plot adjustement\n",
    "for a in ax:\n",
    "    a.grid(True)\n",
    "    a.legend(['train','val'],loc=4)\n",
    "    a.set_xlabel('num of Epochs')\n",
    "    \n",
    "plt.show()"
   ]
  }
 ],
 "metadata": {
  "interpreter": {
   "hash": "63fd5069d213b44bf678585dea6b12cceca9941eaf7f819626cde1f2670de90d"
  },
  "kernelspec": {
   "display_name": "Python 3.9.0 64-bit",
   "language": "python",
   "name": "python3"
  },
  "language_info": {
   "codemirror_mode": {
    "name": "ipython",
    "version": 3
   },
   "file_extension": ".py",
   "mimetype": "text/x-python",
   "name": "python",
   "nbconvert_exporter": "python",
   "pygments_lexer": "ipython3",
   "version": "3.9.0"
  },
  "orig_nbformat": 4
 },
 "nbformat": 4,
 "nbformat_minor": 2
}
