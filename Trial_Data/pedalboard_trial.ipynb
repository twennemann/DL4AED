{
 "cells": [
  {
   "cell_type": "code",
   "execution_count": 14,
   "metadata": {},
   "outputs": [
    {
     "data": {
      "text/plain": [
       "'\\n# Make a Pedalboard object, containing multiple plugins:\\nboard = Pedalboard([\\n   # Compressor(threshold_db=-50, ratio=25),\\n #   Gain(gain_db=30),\\n    Chorus(),\\n  #  LadderFilter(mode=LadderFilter.Mode.HPF12, cutoff_hz=900),\\n    Phaser(),\\n  #  Convolution(\"./guitar_amp.wav\", 1.0),\\n    Reverb(room_size=0.25),\\n], sample_rate=sample_rate)\\n\\n# Pedalboard objects behave like lists, so you can add plugins:\\nboard.append(Compressor(threshold_db=-25, ratio=10))\\n#board.append(Gain(gain_db=10))\\n#board.append(Limiter())\\n\\n# Run the audio through this pedalboard!\\neffected = board(audio)\\n\\n# Write the audio back as a wav file:\\nwith sf.SoundFile(\\'./processed-output-stereo.wav\\', \\'w\\', samplerate=sample_rate, channels=len(effected.shape)) as f:\\n    f.write(effected)\\n'"
      ]
     },
     "execution_count": 14,
     "metadata": {},
     "output_type": "execute_result"
    }
   ],
   "source": [
    "# https://github.com/spotify/pedalboard#examples\n",
    "\n",
    "import soundfile as sf\n",
    "import librosa\n",
    "import os\n",
    "from pedalboard import (\n",
    "    Pedalboard,\n",
    "    Convolution,\n",
    "    Compressor,\n",
    "    Chorus,\n",
    "    Gain,\n",
    "    Reverb,\n",
    "    Limiter,\n",
    "    LadderFilter,\n",
    "    Phaser,\n",
    ")\n",
    "\n",
    "fs = 44100\n",
    "\n",
    "fx_list = [Chorus(), Phaser(), Reverb(room_size=0.3)]\n",
    "fx_names = ['Chorus', 'Phaser', 'Reverb']\n",
    "#board = Pedalboard()\n",
    "for fx in range(0, 3, 1):\n",
    "    board = Pedalboard([fx_list[fx]], sample_rate=fs)\n",
    "    for input in range(1, 101, 1):\n",
    "        x, samplerate = librosa.load('GuitSigClean_Monophon/Monophon (%d).wav' %input, mono=True, sr=fs)\n",
    "        output = board(x)\n",
    "        with sf.SoundFile('GuitSig_with_%s/Monophon_with_%s (%d).wav' %(fx_names[fx],fx_names[fx],input), 'w', samplerate=fs, channels=len(output.shape)) as f:\n",
    "            f.write(output)\n",
    "\n",
    "'''\n",
    "# Make a Pedalboard object, containing multiple plugins:\n",
    "board = Pedalboard([\n",
    "   # Compressor(threshold_db=-50, ratio=25),\n",
    " #   Gain(gain_db=30),\n",
    "    Chorus(),\n",
    "  #  LadderFilter(mode=LadderFilter.Mode.HPF12, cutoff_hz=900),\n",
    "    Phaser(),\n",
    "  #  Convolution(\"./guitar_amp.wav\", 1.0),\n",
    "    Reverb(room_size=0.25),\n",
    "], sample_rate=sample_rate)\n",
    "\n",
    "# Pedalboard objects behave like lists, so you can add plugins:\n",
    "board.append(Compressor(threshold_db=-25, ratio=10))\n",
    "#board.append(Gain(gain_db=10))\n",
    "#board.append(Limiter())\n",
    "\n",
    "# Run the audio through this pedalboard!\n",
    "effected = board(audio)\n",
    "\n",
    "# Write the audio back as a wav file:\n",
    "with sf.SoundFile('./processed-output-stereo.wav', 'w', samplerate=sample_rate, channels=len(effected.shape)) as f:\n",
    "    f.write(effected)\n",
    "'''"
   ]
  }
 ],
 "metadata": {
  "interpreter": {
   "hash": "63fd5069d213b44bf678585dea6b12cceca9941eaf7f819626cde1f2670de90d"
  },
  "kernelspec": {
   "display_name": "Python 3.9.0 64-bit",
   "language": "python",
   "name": "python3"
  },
  "language_info": {
   "codemirror_mode": {
    "name": "ipython",
    "version": 3
   },
   "file_extension": ".py",
   "mimetype": "text/x-python",
   "name": "python",
   "nbconvert_exporter": "python",
   "pygments_lexer": "ipython3",
   "version": "3.9.0"
  },
  "orig_nbformat": 4
 },
 "nbformat": 4,
 "nbformat_minor": 2
}
